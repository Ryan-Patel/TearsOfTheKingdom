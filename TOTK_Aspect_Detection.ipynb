{
 "cells": [
  {
   "cell_type": "markdown",
   "id": "cf8b0e59-9773-4dab-afe1-f2cef7c0dc2b",
   "metadata": {},
   "source": [
    "## EDA on topics\n",
    "We're going to go through the reviews of TOTK and determining detailed aspects for more abstract aspect categories. For example under combat we would have the weapon system , the fuse mechanic, the quality of enemies and variety, the difficulty etc.\n",
    "\n",
    "These are the aspect Categories:\n",
    "\n",
    "1. Visual Presentation\n",
    "2. Audio\n",
    "3. Combat\n",
    "4. Bosses and Enemies\n",
    "5. Main Story/Quests and Characters\n",
    "6. Abilities\n",
    "7. Ultra-Hand and Building\n",
    "8. Puzzles and Dungeons\n",
    "9. Side Quests and Side Adventures\n",
    "10. World\n",
    "11. Exploration and Traversal\n",
    "12. Misc/Other"
   ]
  },
  {
   "cell_type": "code",
   "execution_count": 2,
   "id": "b2e206e4-65a2-4edf-8623-df3e5107cc6a",
   "metadata": {},
   "outputs": [],
   "source": [
    "import pandas as pd\n",
    "import re\n",
    "from nltk.util import bigrams, ngrams\n",
    "import nltk\n",
    "import string\n",
    "from collections import Counter\n",
    "from nltk.tokenize import sent_tokenize\n",
    "from ast import literal_eval"
   ]
  },
  {
   "cell_type": "markdown",
   "id": "8c10fc8f-31ac-4401-98cd-5d869c70fb41",
   "metadata": {},
   "source": [
    "To make things quick i'll import the reviews already formatted to lowercase."
   ]
  },
  {
   "cell_type": "code",
   "execution_count": 3,
   "id": "6844596a-ce03-437e-9df9-191a5b678fd5",
   "metadata": {},
   "outputs": [],
   "source": [
    "lowercase_reviews = pd.read_csv('totk_lowercase_reviews.csv',index_col=0)"
   ]
  },
  {
   "cell_type": "markdown",
   "id": "0f670b92-bfef-4594-8913-a9ad554469fb",
   "metadata": {},
   "source": [
    "To best extract any aspects I'll need to remove punctuation from the reviews:"
   ]
  },
  {
   "cell_type": "code",
   "execution_count": 4,
   "id": "890086b1-8a05-4d71-9c10-9add8537777b",
   "metadata": {},
   "outputs": [],
   "source": [
    "import string\n",
    "def remove_punc(text):\n",
    "    text = re.sub('[%s]' % re.escape(string.punctuation), ' ', text)\n",
    "    return re.sub (r'[^\\w\\s]', ' ', text)"
   ]
  },
  {
   "cell_type": "code",
   "execution_count": 5,
   "id": "83cbfb95-97e8-474d-8927-391c27feb4ed",
   "metadata": {},
   "outputs": [],
   "source": [
    "#Define new column being the reviews sans any punctuation\n",
    "\n",
    "lowercase_reviews['no_punc'] = lowercase_reviews.lowercase_reviews.apply(lambda x: remove_punc(x))"
   ]
  },
  {
   "cell_type": "markdown",
   "id": "7aefd919-17a4-4fb5-ac56-0bbabcc7ff27",
   "metadata": {},
   "source": [
    "## Attention to Detail:\n",
    "\n",
    "Aspects can be expressed in many ways, as differing individual words or phrases E.G: \"Frame-rate\" could appear in a review as \"frame rate\" or \"framerate\" and \"Art-style\" likewise. Here we will focus on individual terms and short phrases of no more than 3 words.\n",
    "- By including any synonymous terms and phrases an aspect can have we can obtain a more representative understanding of player sentiments.\n",
    "- Some \"aspects\" can only be defined as a phrase and such phrases can have overlap. \"Weapons\" can be referenced in a review regarding their variety, visual design, or some other mechanic associated with them. We should where possible investigate bigram or trigam groups for certain aspects to get finer, more detailed player sentiments.\n",
    "- By accomodating bigrams and trigrams we could accidentally \"double up\" on aspects being classified so we need a way to filter out individual words if it is involved in any bigram pair or trigram tripled that we define. \n",
    "\n",
    "- This time around I will also be analysing sentiments on a per sentence basis. This will speed up processing time whilst removing the \"cross contamination\" of 1-word aspects and aspect phrases. Look at the following sentence:\n",
    "\"The world exploration is great, there is plenty to discover in every area.\" This sentence contains 2 aspects: \"world\" and \"world exploration\". If somewhere else in a review containing this sentence contained the aspect \"world\", when running the model checking the sentiment for \"world\" the term appearing in front of \"world exploration\" would \"cross-contaminate\" that.\n",
    "- A caveat of this appraoch is that it is possible that a sentence could be brought up in one sentence and then discussed in another. However if we only analyse sentences with aspects in them I would probably expect the count of neutral sentiments to increase.\n",
    "\n",
    "------\n",
    "\n",
    "Let's create a function that we can pass a string to and it will find n_grams we want for certain words across all the reviews. We can use these to identify certain \"aspect phrases\".\n"
   ]
  },
  {
   "cell_type": "code",
   "execution_count": 6,
   "id": "9a0bb71a-2ef6-4df5-ace1-a74d3196d718",
   "metadata": {},
   "outputs": [],
   "source": [
    "def find_aspect_ngram(x,aspect, extra_word = '', n = 3 ):\n",
    "    tokens = x.split()\n",
    "    tuple_list = [tup for tup in list(ngrams(tokens, n)) if aspect in tup or (aspect + extra_word) in tup]\n",
    "    if tuple_list:\n",
    "        return tuple_list\n",
    "    else:\n",
    "        return None\n",
    "        \n",
    "def flatten(xss):\n",
    "    return [x for xs in xss for x in xs]    "
   ]
  },
  {
   "cell_type": "code",
   "execution_count": null,
   "id": "596e8e5c-778b-4c9e-b884-06624ae6c0c2",
   "metadata": {},
   "outputs": [],
   "source": [
    "lowercase_reviews.no_punc.apply(lambda x: 'texture' in x.split())"
   ]
  },
  {
   "cell_type": "markdown",
   "id": "0c1518b0-97b4-4839-b10c-21cf33cbb4ad",
   "metadata": {},
   "source": [
    "- We also need a function that can filter prioritises the detection of bigrams in a text if and not the words that comprise it.\n",
    "\n",
    "I'll test the function on the following sentence:"
   ]
  },
  {
   "cell_type": "code",
   "execution_count": 436,
   "id": "2c86ba8e-14d2-4a56-b552-84074575c7b0",
   "metadata": {},
   "outputs": [],
   "source": [
    "sentence = 'The weapon variety is excellent, especially when you consider the new fuse mechanic and how it enables crafting of new types of weapons. \\\n",
    "However I am not a fan of the weapon durability system, returning from the previous games. \\\n",
    "This is especially true if I have combined it with a precious material. \\\n",
    "I find myself simply holding onto a particular weapon instead of using it for fear of it breaking.'\n",
    "\n",
    "sample_asps =['weapons','weapon','weapon variety', 'fuse', 'fuse mechanic', 'weapon durability']"
   ]
  },
  {
   "cell_type": "markdown",
   "id": "3c0f68c8-a8f3-4525-b40c-0e63780d2e48",
   "metadata": {},
   "source": [
    "- re.findall() matches strings greedily so we need a function to organise the list in length descending order such that bigrams take priority over individual words.\n",
    "- We also need function that creates a pattern for each list of aspects that we can pass into re.findall()"
   ]
  },
  {
   "cell_type": "code",
   "execution_count": 7,
   "id": "9625cac8-baa7-47a6-ae1a-9274102355ca",
   "metadata": {},
   "outputs": [],
   "source": [
    "def list_sort(aspect_list):\n",
    "    x = sorted(aspect_list, key = len)\n",
    "    x.reverse()\n",
    "    return x\n",
    "\n",
    "def create_pattern(aspect_list):\n",
    "    return r'\\b('+'|'.join(word for word in list_sort(aspect_list))+r')\\b'\n"
   ]
  },
  {
   "cell_type": "code",
   "execution_count": 432,
   "id": "9115b98f-ea1f-41d6-ade2-7df8289dbacb",
   "metadata": {},
   "outputs": [
    {
     "data": {
      "text/plain": [
       "'\\\\b(weapon durability|weapon variety|fuse mechanic|weapons|weapon|fuse)\\\\b'"
      ]
     },
     "execution_count": 432,
     "metadata": {},
     "output_type": "execute_result"
    }
   ],
   "source": [
    "create_pattern(sample_asps) "
   ]
  },
  {
   "cell_type": "markdown",
   "id": "56e29b12-34fb-4bb1-b80d-b629e637ee87",
   "metadata": {},
   "source": [
    "Hooray it works\n",
    "\n",
    "----------\n",
    "Below:\n",
    "- we'll create a column with the tokenized sentences for each review.\n",
    "- create a function that detects aspects from a pre-defined list inside each sentence."
   ]
  },
  {
   "cell_type": "code",
   "execution_count": 6,
   "id": "d88272db-1a14-4894-ba10-fdc59fc243c0",
   "metadata": {},
   "outputs": [],
   "source": [
    "lowercase_reviews['sent_tokenized_reviews'] = lowercase_reviews.lowercase_reviews.apply(lambda x: sent_tokenize(x))"
   ]
  },
  {
   "cell_type": "code",
   "execution_count": 7,
   "id": "18d5ebaf-51b8-451d-b188-38b2d12db49c",
   "metadata": {},
   "outputs": [],
   "source": [
    "\n",
    "def detect_aspects(sentences, aspect_list):\n",
    "    \n",
    "    return [re.findall(create_pattern(list_sort(aspect_list)), sent) for sent in sentences]"
   ]
  },
  {
   "cell_type": "code",
   "execution_count": 443,
   "id": "f2eb5963-e974-488d-a334-7f695ee159e6",
   "metadata": {},
   "outputs": [
    {
     "data": {
      "text/plain": [
       "[[], ['weapons'], [], [], []]"
      ]
     },
     "execution_count": 443,
     "metadata": {},
     "output_type": "execute_result"
    }
   ],
   "source": [
    "detect_aspects(lowercase_reviews.sent_tokenized_reviews.iloc[0], sample_asps)"
   ]
  },
  {
   "cell_type": "markdown",
   "id": "220ba441-11e7-4767-b99e-5be25b9dc689",
   "metadata": {},
   "source": [
    "To identify terms and phrases I'll use the following line of code."
   ]
  },
  {
   "cell_type": "code",
   "execution_count": 17,
   "id": "606798dd-b615-4ba0-82b0-c499f14d1bee",
   "metadata": {},
   "outputs": [
    {
     "data": {
      "text/plain": [
       "Counter({('same', 'star'): 2,\n",
       "         ('5', 'star'): 1,\n",
       "         ('star', 'all'): 1,\n",
       "         ('honkai', 'star'): 1,\n",
       "         ('star', 'rail'): 1,\n",
       "         ('of', 'star'): 1,\n",
       "         ('star', 'crossed'): 1,\n",
       "         ('a', 'star'): 1,\n",
       "         ('star', 'off'): 1,\n",
       "         ('4', 'star'): 1,\n",
       "         ('star', 'michelin'): 1,\n",
       "         ('you', 'star'): 1,\n",
       "         ('star', 'to'): 1,\n",
       "         ('star', 'on'): 1,\n",
       "         ('the', 'star'): 1,\n",
       "         ('star', 'of'): 1,\n",
       "         ('1', 'star'): 1,\n",
       "         ('star', 'challenge'): 1,\n",
       "         ('10', 'star'): 1,\n",
       "         ('star', 'reviews'): 1,\n",
       "         ('star', 'profile'): 1})"
      ]
     },
     "execution_count": 17,
     "metadata": {},
     "output_type": "execute_result"
    }
   ],
   "source": [
    "Counter(flatten(lowercase_reviews.no_punc.apply(lambda x: find_aspect_ngram(x, 'star', n=2)).dropna().values.tolist()))"
   ]
  },
  {
   "cell_type": "markdown",
   "id": "74e45b49-6682-427d-931d-2211d536552c",
   "metadata": {},
   "source": [
    "By passing any string to the list and setting a value for n i get a selection of n-length tupples containing the string corresponding to sequences that appear across ALL reviews. This allowed me to quickly identify aspect terms and phrases. (Along with an online thesaurus)\n",
    "\n",
    "---------\n",
    "\n",
    "\n",
    "Now I'll go through each major are of the game retrieving a list of aspects and synonymous terms and phrases.\n",
    "Afterwards I'll create dataframes for each aspect group leaving only the review text, the tokenized sentences and a list of the aspects found within the review and for each sentence.\n",
    "I will run the classifier in a separate py file rather than here in the jupyter notebook."
   ]
  },
  {
   "cell_type": "markdown",
   "id": "e40f0ae5-aca8-4bd7-9ba3-db3c540c9902",
   "metadata": {},
   "source": [
    "## Visual Presentation\n",
    "\n",
    "Here is a selection of aspects we can use when discussing a games visual presentation: \n",
    "- 'Visuals'\n",
    "- 'Graphics' / 'graphical fidelity' / \n",
    "- 'Frame-rate' / 'framerate' / 'frame rate' / 'technical performance' / 'performance' \n",
    "- 'Art-style' / 'art style' / 'artstyle' / 'art design' / \n",
    "- 'character design'\n",
    "- 'textures' / 'texture' / 'texture quality' / 'texture resolution' /\n",
    "- 'level of detail' / 'lod' / 'draw distance' / 'draw-distance' \n",
    "- 'cutscenes' / 'cut scenes'"
   ]
  },
  {
   "cell_type": "markdown",
   "id": "c4cf9822-5afd-47d0-91dc-e305f3991a14",
   "metadata": {},
   "source": [
    "Instead `of showig the list of tuples, I'm using the following cell, changing the string and n value to determine what to use as aspects in Visual Presentation."
   ]
  },
  {
   "cell_type": "code",
   "execution_count": null,
   "id": "422f02d5-7bd1-4dcb-abb0-63ecd61bb808",
   "metadata": {},
   "outputs": [],
   "source": [
    "# Visuals \n",
    "Counter(flatten(lowercase_reviews.no_punc.apply(lambda x: find_aspect_ngram(x, 'performance', n=2)).dropna().values.tolist()))"
   ]
  },
  {
   "cell_type": "code",
   "execution_count": 9,
   "id": "d36a6d9c-28bb-4024-b2e8-95b989c73b63",
   "metadata": {},
   "outputs": [],
   "source": [
    "presentation_aspects = ['visuals','visual','graphics','graphic','graphic fidelity', 'graphical fidelity', 'framerate', 'fps', 'performance', 'frame rate',  'frame drops',\n",
    "                        'performance', 'art style', 'art style', 'art-style', 'art direction','artistic direction', 'artistic style',\n",
    "                        'texture', 'textures','resolution','picture quality', 'draw distance', 'cut scenes','cinematics', 'cutscenes','cut-scenes',\n",
    "                        'animation','animations']\n",
    "presentation_agg_terms = [('Graphics',['graphics','graphic','graphic fidelity', 'graphical fidelity']),\n",
    "                          ('Framerate',['framerate', 'fps', 'performance', 'frame rate',  'frame drops',\n",
    "                                       'performance']),\n",
    "                          ('Art Direction',['art style', 'art style', 'art-style', 'art direction','artistic direction', 'artistic style']),\n",
    "                          ('Textures',['texture', 'textures']),\n",
    "                          ('Cut-Scenes',['cut scenes', 'cutscenes','cut-scenes','cinematics']),\n",
    "                          ('Animation',['animation','animations']),\n",
    "                          ('Visuals',['visuals','visual']),\n",
    "                          ('Resolution',['resolution','picture quality']),\n",
    "                          ]"
   ]
  },
  {
   "cell_type": "code",
   "execution_count": null,
   "id": "50bc8ae1-099c-417c-99f2-a5d1c533b8be",
   "metadata": {},
   "outputs": [],
   "source": [
    "lowercase_reviews['presentation_aspects'] = lowercase_reviews.no_punc.str.contains(create_pattern(presentation_aspects),regex=True)"
   ]
  },
  {
   "cell_type": "code",
   "execution_count": 15,
   "id": "5a478e2c-8fff-465a-8929-545c7e6b6fca",
   "metadata": {},
   "outputs": [],
   "source": [
    "presentation_aspects_df = lowercase_reviews.query('presentation_aspects == True')\n",
    "#presentation_aspects_df['aspects_within']= presentation_aspects_df.lowercase_reviews.apply(lambda x: list(set(re.findall(create_pattern(presentation_aspects), x))))"
   ]
  },
  {
   "cell_type": "code",
   "execution_count": 16,
   "id": "6c02f6e5-20d8-43f9-a60e-42b99942ea68",
   "metadata": {},
   "outputs": [],
   "source": [
    "presentation_aspects_df = (\n",
    "    presentation_aspects_df.assign(aspects_within= lambda df_: df_.lowercase_reviews.apply(lambda x: list(set(re.findall(create_pattern(presentation_aspects), x)))),\n",
    "                            sentence_aspects = lambda df_: df_.sent_tokenized_reviews.apply(lambda x: detect_aspects(x,presentation_aspects)))\n",
    "                    .drop(columns=['no_punc','presentation_aspects','lowercase_reviews'])\n",
    ")\n"
   ]
  },
  {
   "cell_type": "code",
   "execution_count": 652,
   "id": "6db2b781-2a23-446b-a086-1615cfffaa15",
   "metadata": {},
   "outputs": [],
   "source": [
    "presentation_aspects_df.drop(columns=['no_punc','presentation_aspects','dup_mentions','lowercase_reviews'],inplace=True)"
   ]
  },
  {
   "cell_type": "code",
   "execution_count": 17,
   "id": "52f89b0a-780b-4ad5-80d0-b725d1fa53fd",
   "metadata": {},
   "outputs": [],
   "source": [
    "presentation_aspects_df.to_csv('totk_presentation_aspects.csv')"
   ]
  },
  {
   "cell_type": "markdown",
   "id": "128c41ea-993e-4e36-a123-6ae4bb9ca2d0",
   "metadata": {},
   "source": [
    "## Audio\n",
    "- 'audio design' / 'sound design' / 'sound effects' / 'sfx'\n",
    "- 'soundtrack' / 'music' / 'ost' / 'score' / 'themes'"
   ]
  },
  {
   "cell_type": "code",
   "execution_count": 80,
   "id": "de8b7949-ed10-45e9-9a71-906e3fa8a8d2",
   "metadata": {},
   "outputs": [
    {
     "data": {
      "text/plain": [
       "Counter()"
      ]
     },
     "execution_count": 80,
     "metadata": {},
     "output_type": "execute_result"
    }
   ],
   "source": [
    "Counter(flatten(lowercase_reviews.no_punc.apply(lambda x: find_aspect_ngram(x, '', n=2)).dropna().values.tolist()))"
   ]
  },
  {
   "cell_type": "code",
   "execution_count": 9,
   "id": "b5dd2430-6769-46c1-99f3-24184e7ecf7d",
   "metadata": {},
   "outputs": [],
   "source": [
    "audio_aspects = ['audio design','audio','sound design','soundtrack','sound effects', 'music score','musical score', 'ost','original soundtrack'\n",
    "                 'ambient music', 'ambient soundtrack','music']\n",
    "\n",
    "audio_aggterms = [('Sound Design', ['audio design','sound design','audio','sound effects'] ),\n",
    "                   ('Soundtrack',['soundtrack','sound effects', 'music score','musical score', 'ost','original soundtrack'\n",
    "                 'ambient music', 'ambient soundtrack','music'])\n",
    "                  ]"
   ]
  },
  {
   "cell_type": "code",
   "execution_count": null,
   "id": "e9be76f8-5b4e-4b73-b699-99a9bbcbeb9b",
   "metadata": {},
   "outputs": [],
   "source": [
    "lowercase_reviews['audio_aspects'] = lowercase_reviews.no_punc.str.contains(create_pattern(audio_aspects),regex=True)"
   ]
  },
  {
   "cell_type": "code",
   "execution_count": 14,
   "id": "1480effe-a907-4c1f-9714-2813ce8cae20",
   "metadata": {},
   "outputs": [],
   "source": [
    "\n",
    "audio_aspects_df = lowercase_reviews.query('audio_aspects == True')\n",
    "\n",
    "audio_aspects_df = (\n",
    "    audio_aspects_df.assign(aspects_within= lambda df_: df_.lowercase_reviews.apply(lambda x: list(set(re.findall(create_pattern(audio_aspects), x)))),\n",
    "                            sentence_aspects = lambda df_: df_.sent_tokenized_reviews.apply(lambda x: detect_aspects(x,audio_aspects)))\n",
    "                    .drop(columns=['no_punc','audio_aspects','lowercase_reviews'])\n",
    ")"
   ]
  },
  {
   "cell_type": "code",
   "execution_count": 15,
   "id": "0269a510-e916-4bd5-8336-a917ed251935",
   "metadata": {},
   "outputs": [],
   "source": [
    "audio_aspects_df.to_csv('totk_audio_aspects.csv')"
   ]
  },
  {
   "cell_type": "markdown",
   "id": "697711a1-2f77-4228-b71b-3612c2ef0106",
   "metadata": {},
   "source": [
    "## Combat"
   ]
  },
  {
   "cell_type": "code",
   "execution_count": null,
   "id": "bc304e6c-8e5d-4277-82ea-989d5433e684",
   "metadata": {},
   "outputs": [],
   "source": [
    "Counter(flatten(lowercase_reviews.no_punc.apply(lambda x: find_aspect_ngram(x, 'variety', n=2)).dropna().values.tolist()))"
   ]
  },
  {
   "cell_type": "code",
   "execution_count": 138,
   "id": "37ac1625-7459-4485-ae8e-8ab3a5b43485",
   "metadata": {},
   "outputs": [],
   "source": [
    "combat_aspects = ['combat system', 'combat', 'weapon durability', 'weapon breaking' ,'weapon break' ,'weapon breaks',\n",
    "                  'weapon fusion', 'weapon breakage', 'weapons that break', 'breakable weapons', 'weapons still break', \n",
    "                  'weapon fusing', 'weapon crafting', 'weapon combinations','combine weapons','combine weapon' , 'weapon degradation', \n",
    "                  'weapon system', 'armour','clothing','clothes','outfit','oufits', 'battle system', \n",
    "                  'healing','heal','health', 'flurry rush', 'dodge', 'dodging','new weapons','new weapon','weapon variety','weapons variety' ]\n",
    "\n",
    "combat_aggterms = [('Combat',['combat system', 'combat','battle system']),\n",
    "                   ('Weapon Durability',['weapon durability', 'weapon breaking' ,'weapon break' ,'weapon breaks',\n",
    "                                         'weapon breakage', 'weapons that break', 'breakable weapons', 'weapons still break',\n",
    "                                         'weapon degradation', 'weapon system']),\n",
    "                   ('Weapon Fusion',['weapon fusion','weapon fusing','weapon crafting','weapon combinations','combine weapons',\n",
    "                                     'combine weapon']),\n",
    "                   ('Health & Healing',['healing','heal','health']),\n",
    "                   ('Armour and Clothing',['armour','clothing','clothes','outfit','oufits']),\n",
    "                   ('Dodging and Flurry Rush',['flurry rush', 'dodge', 'dodging']),\n",
    "                   ('Weapon Variety',['new weapons','new weapon','weapon variety','weapons variety'])]"
   ]
  },
  {
   "cell_type": "code",
   "execution_count": 140,
   "id": "61c79c93-bf4b-4d8a-9e7d-8df6fbea5133",
   "metadata": {},
   "outputs": [
    {
     "data": {
      "text/plain": [
       "True"
      ]
     },
     "execution_count": 140,
     "metadata": {},
     "output_type": "execute_result"
    }
   ],
   "source": [
    "count=0\n",
    "for _,y in combat_aggterms:\n",
    "    count += len(y)\n",
    "\n",
    "count == len(combat_aspects)"
   ]
  },
  {
   "cell_type": "code",
   "execution_count": null,
   "id": "613dfda7-593a-4b5a-a6ef-7fbad487e5d5",
   "metadata": {},
   "outputs": [],
   "source": [
    "lowercase_reviews['combat_aspects'] = lowercase_reviews.no_punc.str.contains(create_pattern(combat_aspects),regex=True)"
   ]
  },
  {
   "cell_type": "code",
   "execution_count": 141,
   "id": "03687e81-a01a-4a07-929c-71c99ce67d67",
   "metadata": {},
   "outputs": [],
   "source": [
    "\n",
    "combat_aspects_df = lowercase_reviews.query('combat_aspects == True')\n",
    "\n",
    "combat_aspects_df = (\n",
    "    combat_aspects_df.assign(aspects_within= lambda df_: df_.lowercase_reviews.apply(lambda x: list(set(re.findall(create_pattern(combat_aspects), x)))),\n",
    "                            sentence_aspects = lambda df_: df_.sent_tokenized_reviews.apply(lambda x: detect_aspects(x,combat_aspects)))\n",
    "                    .drop(columns=['no_punc','combat_aspects','audio_aspects','lowercase_reviews'])\n",
    ")"
   ]
  },
  {
   "cell_type": "code",
   "execution_count": 142,
   "id": "c286bc3f-3f4c-4f38-b925-9b0f5443db5d",
   "metadata": {},
   "outputs": [],
   "source": [
    "combat_aspects_df.to_csv('totk_combat_aspects.csv')"
   ]
  },
  {
   "cell_type": "code",
   "execution_count": null,
   "id": "f5169c3c-ad0d-4c15-9d58-68244814a803",
   "metadata": {},
   "outputs": [],
   "source": [
    "pd.read_csv('totk_combat_aspects.csv',index_col=0)"
   ]
  },
  {
   "cell_type": "markdown",
   "id": "e4312797-7925-4fad-bd03-eb0687159743",
   "metadata": {},
   "source": [
    "## Bosses and Enemies\n"
   ]
  },
  {
   "cell_type": "code",
   "execution_count": null,
   "id": "6f07e762-d2bc-4251-aac8-b9cbb57cc873",
   "metadata": {},
   "outputs": [],
   "source": [
    "Counter(flatten(lowercase_reviews.no_punc.apply(lambda x: find_aspect_ngram(x, 'like', n=2)).dropna().values.tolist()))"
   ]
  },
  {
   "cell_type": "code",
   "execution_count": 70,
   "id": "a680d941-307e-42e7-8b5f-2d537858d7c7",
   "metadata": {},
   "outputs": [],
   "source": [
    "boss_enemy_aspects = ['bosses', 'final boss', 'final battle','dungeon bosses','boss fights','boss battles',\n",
    "                      'temple boss', 'temple bosses', 'boss battle','last boss', 'boss encounter', 'colgera','gohma', 'seized construct','queen gibdo',\n",
    "                      'phantom ganon','gloom hands', 'lynel','hinox','frox','gleeok', 'mini boss','mini bosses','mini-boss',\n",
    "                     'bokoblins','moblins','lizalfos', 'enemy variety', 'monster variety','monster types','enemy types', 'variety of enemies',\n",
    "                      'new enemies', 'enemy diversity', 'enemies']\n",
    "\n",
    "boss_enemy_aggterms = [('Main Bosses',['bosses','dungeon bosses','boss fights','boss battles',\n",
    "                                        'temple boss', 'temple bosses', 'boss battle',\n",
    "                                       'boss encounter', 'colgera','gohma', 'seized construct','queen gibdo']),\n",
    "                       ('Mini-Bosses',['phantom ganon','gloom hands', 'lynel','hinox','frox','gleeok', 'mini boss','mini bosses','mini-boss']),\n",
    "                       ('Enemy Variety',['enemy variety', 'monster variety','monster types','enemy types', 'variety of enemies',\n",
    "                      'new enemies', 'enemy diversity']),\n",
    "                       ('Final Boss',['final boss', 'final battle','last boss']),\n",
    "                       ('Enemies',['bokoblins','moblins','lizalfos','enemies'])]"
   ]
  },
  {
   "cell_type": "code",
   "execution_count": null,
   "id": "1187245e-64e9-4e3c-9ec2-83f334f69ccf",
   "metadata": {},
   "outputs": [],
   "source": [
    "lowercase_reviews['boss_enemy_aspects'] = lowercase_reviews.no_punc.str.contains(create_pattern(boss_enemy_aspects),regex=True)"
   ]
  },
  {
   "cell_type": "code",
   "execution_count": 151,
   "id": "8ce2776f-e975-41eb-8b54-1299d411580e",
   "metadata": {},
   "outputs": [],
   "source": [
    "\n",
    "boss_enemy_aspects_df = lowercase_reviews.query('boss_enemy_aspects == True')\n",
    "\n",
    "boss_enemy_aspects_df = (\n",
    "    boss_enemy_aspects_df.assign(aspects_within= lambda df_: df_.lowercase_reviews.apply(lambda x: list(set(re.findall(create_pattern(boss_enemy_aspects), x)))),\n",
    "                            sentence_aspects = lambda df_: df_.sent_tokenized_reviews.apply(lambda x: detect_aspects(x,boss_enemy_aspects)))\n",
    "                    .drop(columns=['no_punc','boss_enemy_aspects','audio_aspects','combat_aspects','lowercase_reviews'])\n",
    ")"
   ]
  },
  {
   "cell_type": "code",
   "execution_count": 156,
   "id": "72cb0b4a-c210-4ea9-9a95-de44a1691752",
   "metadata": {},
   "outputs": [],
   "source": [
    "boss_enemy_aspects_df.to_csv('totk_bossenemy_aspects.csv')"
   ]
  },
  {
   "cell_type": "code",
   "execution_count": 144,
   "id": "e1fcd868-2d96-46c3-a8d6-9d22a61aecec",
   "metadata": {},
   "outputs": [
    {
     "data": {
      "text/plain": [
       "True"
      ]
     },
     "execution_count": 144,
     "metadata": {},
     "output_type": "execute_result"
    }
   ],
   "source": [
    "count=0\n",
    "for _,y in boss_enemy_aggterms:\n",
    "    count += len(y)\n",
    "\n",
    "count == len(boss_enemy_aspects)"
   ]
  },
  {
   "cell_type": "code",
   "execution_count": 155,
   "id": "6c14afa6-1a80-4dc6-b14c-0498f38810ea",
   "metadata": {},
   "outputs": [],
   "source": [
    "lowercase_reviews.drop(columns=['audio_aspects','combat_aspects','boss_enemy_aspects'],inplace=True)"
   ]
  },
  {
   "cell_type": "markdown",
   "id": "54b6ad2e-be7b-45db-b086-7a71ce6b9ec0",
   "metadata": {},
   "source": [
    "## Main Story and Characters"
   ]
  },
  {
   "cell_type": "code",
   "execution_count": 122,
   "id": "93918fd2-e9a7-4361-817a-eb12c2605e3b",
   "metadata": {},
   "outputs": [
    {
     "data": {
      "text/plain": [
       "Counter()"
      ]
     },
     "execution_count": 122,
     "metadata": {},
     "output_type": "execute_result"
    }
   ],
   "source": [
    "Counter(flatten(lowercase_reviews.no_punc.apply(lambda x: find_aspect_ngram(x, '', n=2)).dropna().values.tolist()))"
   ]
  },
  {
   "cell_type": "code",
   "execution_count": 159,
   "id": "4a0d159b-6156-4d5c-900d-e1232af17089",
   "metadata": {},
   "outputs": [],
   "source": [
    "story_char_aspects = ['main story', 'main quest','main quests','main storyline', 'main mission', 'main plot', 'main objective',\n",
    "                           'plot','story','storyline','characters','side characters','storytelling', 'main character', 'main characters',\n",
    "                           'voice acting','character design','character designs','narrative','narratives']\n",
    "\n",
    "story_char_aggterms=[('Main Story',['main story','main storyline','main plot','plot','story','storyline',\n",
    "                                    'storytelling','narrative','narratives']),\n",
    "                     ('Main Quests',['main quest','main quests','main mission','main objective']),\n",
    "                     ('Characters',['characters','side characters''main character', 'main characters']),\n",
    "                     ('Character Design',['character design','character designs']),\n",
    "                     ('Voice Acting',['voice acting','voiceover'])]"
   ]
  },
  {
   "cell_type": "code",
   "execution_count": null,
   "id": "d3d92382-3d29-4ea1-a32e-1e8709a5c778",
   "metadata": {},
   "outputs": [],
   "source": [
    "lowercase_reviews['story_char_aspects'] = lowercase_reviews.no_punc.str.contains(create_pattern(story_char_aspects),regex=True)"
   ]
  },
  {
   "cell_type": "code",
   "execution_count": 161,
   "id": "239b8197-d659-42f4-b950-f198d7f94e10",
   "metadata": {},
   "outputs": [],
   "source": [
    "\n",
    "story_char_aspects_df = lowercase_reviews.query('story_char_aspects == True')\n",
    "\n",
    "story_char_aspects_df = (\n",
    "    story_char_aspects_df.assign(aspects_within= lambda df_: df_.lowercase_reviews.apply(lambda x: list(set(re.findall(create_pattern(story_char_aspects), x)))),\n",
    "                            sentence_aspects = lambda df_: df_.sent_tokenized_reviews.apply(lambda x: detect_aspects(x,story_char_aspects)))\n",
    "                    .drop(columns=['no_punc','story_char_aspects','lowercase_reviews'])\n",
    ")"
   ]
  },
  {
   "cell_type": "code",
   "execution_count": 166,
   "id": "5cc82031-76aa-4789-97f7-547f942f3c9c",
   "metadata": {},
   "outputs": [],
   "source": [
    "story_char_aspects_df.to_csv('totk_storychar_aspects.csv')"
   ]
  },
  {
   "cell_type": "code",
   "execution_count": 165,
   "id": "a728be3c-f37e-4da7-99d0-9951a82deec0",
   "metadata": {},
   "outputs": [],
   "source": [
    "lowercase_reviews.drop(columns = ['story_char_aspects'],inplace=True)"
   ]
  },
  {
   "cell_type": "markdown",
   "id": "f1e8f3a7-6b01-4552-8443-8f2b4272e717",
   "metadata": {},
   "source": [
    "## Abilities"
   ]
  },
  {
   "cell_type": "code",
   "execution_count": 49,
   "id": "76583a50-463f-40ed-8508-2537987c5365",
   "metadata": {},
   "outputs": [
    {
     "data": {
      "text/plain": [
       "Counter({('move', 'upwards'): 1,\n",
       "         ('upwards', 'across'): 1,\n",
       "         ('and', 'upwards'): 1,\n",
       "         ('upwards', 'to'): 1,\n",
       "         ('snaps', 'upwards'): 1,\n",
       "         ('upwards', 'all'): 1,\n",
       "         ('travel', 'upwards'): 1,\n",
       "         ('upwards', 'the'): 1})"
      ]
     },
     "execution_count": 49,
     "metadata": {},
     "output_type": "execute_result"
    }
   ],
   "source": [
    "Counter(flatten(lowercase_reviews.no_punc.apply(lambda x: find_aspect_ngram(x, 'upwards', n=2)).dropna().values.tolist()))"
   ]
  },
  {
   "cell_type": "code",
   "execution_count": 50,
   "id": "1fd21566-5eac-49df-ae4d-559cd81d5732",
   "metadata": {},
   "outputs": [],
   "source": [
    "abilities_aspects = ['abilities','powers', \n",
    "                     'fuse', 'fuse ability', 'fuse mechanic', 'fusion','fusion ability','fusing ability', 'fusing',\n",
    "                     'ascend' ,'ascend ability', 'ascension',\n",
    "                     'recall','recall ability','rewind','reverse mechanic', 'time reverse', 'time reversal', 'reversal mechanic'\n",
    "                     ]\n",
    "abilities_aggterms = [('Abilities',['abilities','powers']),\n",
    "                      ('Fuse',['fuse', 'fuse ability', 'fuse mechanic', 'fusion','fusion ability','fusing ability', 'fusing']),\n",
    "                      ('Ascend',['ascend' ,'ascend ability', 'ascension']),\n",
    "                      ('Recall',['recall','recall ability','rewind','reverse mechanic', 'time reverse', 'time reversal', 'reversal mechanic'])]"
   ]
  },
  {
   "cell_type": "code",
   "execution_count": 51,
   "id": "18389acd-665f-43b0-910f-69ad779d037a",
   "metadata": {},
   "outputs": [
    {
     "data": {
      "text/plain": [
       "True"
      ]
     },
     "execution_count": 51,
     "metadata": {},
     "output_type": "execute_result"
    }
   ],
   "source": [
    "count=0\n",
    "for _,y in abilities_aggterms:\n",
    "    count += len(y)\n",
    "\n",
    "count == len(abilities_aspects)"
   ]
  },
  {
   "cell_type": "code",
   "execution_count": null,
   "id": "ccf12e4b-c8bc-4edd-a308-3ba1f13f3499",
   "metadata": {},
   "outputs": [],
   "source": [
    "lowercase_reviews['abilities_aspects'] = lowercase_reviews.no_punc.str.contains(create_pattern(abilities_aspects),regex=True)"
   ]
  },
  {
   "cell_type": "code",
   "execution_count": 54,
   "id": "effff5e1-9c3a-42bd-853d-aec204a5082b",
   "metadata": {},
   "outputs": [],
   "source": [
    "\n",
    "abilities_aspects_df = lowercase_reviews.query('abilities_aspects == True')\n",
    "\n",
    "abilities_aspects_df = (\n",
    "    abilities_aspects_df.assign(aspects_within= lambda df_: df_.lowercase_reviews.apply(lambda x: list(set(re.findall(create_pattern(abilities_aspects), x)))),\n",
    "                            sentence_aspects = lambda df_: df_.sent_tokenized_reviews.apply(lambda x: detect_aspects(x,abilities_aspects)))\n",
    "                    .drop(columns=['no_punc','abilities_aspects','lowercase_reviews'])\n",
    ")"
   ]
  },
  {
   "cell_type": "code",
   "execution_count": 56,
   "id": "32983bb2-ff7e-47bd-89dc-0af0e12af56a",
   "metadata": {},
   "outputs": [],
   "source": [
    "abilities_aspects_df.to_csv('totk_abilities_aspects.csv')"
   ]
  },
  {
   "cell_type": "code",
   "execution_count": 57,
   "id": "27cc53a7-52ec-4545-8bbc-12647bbdb0ed",
   "metadata": {},
   "outputs": [],
   "source": [
    "lowercase_reviews.drop(columns = ['abilities_aspects'],inplace=True)"
   ]
  },
  {
   "cell_type": "markdown",
   "id": "3a35f4ed-7b5e-4aa9-9128-7babc1dcc73e",
   "metadata": {},
   "source": [
    "## Ultrahand & Building"
   ]
  },
  {
   "cell_type": "code",
   "execution_count": 67,
   "id": "1f4021c0-eb1d-447d-b121-cdd6b1b79c91",
   "metadata": {},
   "outputs": [
    {
     "data": {
      "text/plain": [
       "Counter()"
      ]
     },
     "execution_count": 67,
     "metadata": {},
     "output_type": "execute_result"
    }
   ],
   "source": [
    "Counter(flatten(lowercase_reviews.no_punc.apply(lambda x: find_aspect_ngram(x, '', n=2)).dropna().values.tolist()))"
   ]
  },
  {
   "cell_type": "code",
   "execution_count": 69,
   "id": "b44496d4-999a-4b4e-942a-9c77586d12dd",
   "metadata": {},
   "outputs": [],
   "source": [
    "ultrahand_aspects = ['ultra hand','ultrahand','ultrahand ability', 'ultra-hand',\n",
    "                     'autobuild', 'auto build', 'auto building',\n",
    "                     'build','construction', 'building system','building mechanic','building', 'vehicle building','building vehicles',\n",
    "                     'zonai devices','zonau devices','zonau device', 'zonai gadget','zonnan gadgets',\n",
    "                     ]\n",
    "\n",
    "ultrahand_aggterms = [('Ultrahand',['ultra hand','ultrahand','ultrahand ability', 'ultra-hand']),\n",
    "                      ('AutoBuild',['autobuild', 'auto build', 'auto building']),\n",
    "                      ('Building/Construction',['build','construction', 'building system','building mechanic',\n",
    "                                                'building', 'vehicle building','building vehicles']),\n",
    "                      ('Zonai Devices',['zonai devices','zonau devices','zonau device', 'zonai gadget','zonnan gadgets'])]"
   ]
  },
  {
   "cell_type": "code",
   "execution_count": 70,
   "id": "c5cbd790-f646-4721-b82c-31f5ad888f86",
   "metadata": {},
   "outputs": [
    {
     "data": {
      "text/plain": [
       "True"
      ]
     },
     "execution_count": 70,
     "metadata": {},
     "output_type": "execute_result"
    }
   ],
   "source": [
    "count=0\n",
    "for _,y in ultrahand_aggterms:\n",
    "    count += len(y)\n",
    "\n",
    "count == len(ultrahand_aspects)"
   ]
  },
  {
   "cell_type": "code",
   "execution_count": null,
   "id": "636ebd35-7d65-40bd-8daa-09b49c29f379",
   "metadata": {},
   "outputs": [],
   "source": [
    "lowercase_reviews['ultrahand_aspects'] = lowercase_reviews.no_punc.str.contains(create_pattern(ultrahand_aspects),regex=True)\n",
    "\n",
    "\n",
    "ultrahand_aspects_df = lowercase_reviews.query('ultrahand_aspects == True')\n",
    "\n",
    "ultrahand_aspects_df = (\n",
    "    ultrahand_aspects_df.assign(aspects_within= lambda df_: df_.lowercase_reviews.apply(lambda x: list(set(re.findall(create_pattern(ultrahand_aspects), x)))),\n",
    "                            sentence_aspects = lambda df_: df_.sent_tokenized_reviews.apply(lambda x: detect_aspects(x,ultrahand_aspects)))\n",
    "                    .drop(columns=['no_punc','ultrahand_aspects','lowercase_reviews'])\n",
    ")\n"
   ]
  },
  {
   "cell_type": "code",
   "execution_count": 73,
   "id": "60183415-e487-4649-8c24-f957ee3b24e8",
   "metadata": {},
   "outputs": [],
   "source": [
    "ultrahand_aspects_df.to_csv('totk_ultrahand_aspects.csv')\n",
    "\n",
    "lowercase_reviews.drop(columns = ['ultrahand_aspects'],inplace=True)"
   ]
  },
  {
   "cell_type": "markdown",
   "id": "6ce49ea8-e1d1-49a8-91e1-04d6d7247adc",
   "metadata": {},
   "source": [
    "## Puzzles, Shrines, Dungeons"
   ]
  },
  {
   "cell_type": "code",
   "execution_count": 31,
   "id": "324317bf-c1a1-48ee-9d30-011b4d3f1d3e",
   "metadata": {},
   "outputs": [
    {
     "data": {
      "text/plain": [
       "Counter({('a', 'more', 'abstract'): 1,\n",
       "         ('more', 'abstract', 'story'): 1,\n",
       "         ('abstract', 'story', 'i'): 1})"
      ]
     },
     "execution_count": 31,
     "metadata": {},
     "output_type": "execute_result"
    }
   ],
   "source": [
    "Counter(flatten(lowercase_reviews.no_punc.apply(lambda x: find_aspect_ngram(x, '', n=3)).dropna().values.tolist()))"
   ]
  },
  {
   "cell_type": "code",
   "execution_count": 32,
   "id": "b87b8bc9-461d-471a-817d-4d1accacd680",
   "metadata": {},
   "outputs": [],
   "source": [
    "puzzles_aspects = ['dungeons', 'dungeon','temple','temples',\n",
    "                   'shrines','shrine','shrine quests','shrine quest',\n",
    "                   'puzzle','puzzles','solving puzzles','problem solving'\n",
    "                  ]\n",
    "\n",
    "puzzles_aggterms = [('Dungeons', ['dungeons', 'dungeon','temple','temples']),\n",
    "                    ('Shrines',['shrines','shrine','shrine quests','shrine quest']),\n",
    "                    ('Puzzles',['puzzle','puzzles','solving puzzles','problem solving'])]\n"
   ]
  },
  {
   "cell_type": "code",
   "execution_count": null,
   "id": "a0bb96f5-d5d1-4316-a5fb-dcbade129704",
   "metadata": {},
   "outputs": [],
   "source": [
    "lowercase_reviews['puzzles_aspects'] = lowercase_reviews.no_punc.str.contains(create_pattern(puzzles_aspects),regex=True)\n",
    "\n",
    "\n",
    "puzzles_aspects_df = lowercase_reviews.query('puzzles_aspects == True')\n",
    "\n",
    "puzzles_aspects_df = (\n",
    "    puzzles_aspects_df.assign(aspects_within= lambda df_: df_.lowercase_reviews.apply(lambda x: list(set(re.findall(create_pattern(puzzles_aspects), x)))),\n",
    "                            sentence_aspects = lambda df_: df_.sent_tokenized_reviews.apply(lambda x: detect_aspects(x,puzzles_aspects)))\n",
    "                    .drop(columns=['no_punc','puzzles_aspects','lowercase_reviews'])\n",
    ")\n"
   ]
  },
  {
   "cell_type": "code",
   "execution_count": 37,
   "id": "b4b29c61-a778-4982-bc72-467b139db2b5",
   "metadata": {},
   "outputs": [],
   "source": [
    "puzzles_aspects_df.to_csv('totk_puzzles_aspects.csv')\n",
    "\n",
    "lowercase_reviews.drop(columns = ['puzzles_aspects'],inplace=True)"
   ]
  },
  {
   "cell_type": "markdown",
   "id": "6c1fd908-6e6d-4f18-a9b1-e4acfc8df215",
   "metadata": {},
   "source": [
    "## Side Quests and Side Adventures"
   ]
  },
  {
   "cell_type": "code",
   "execution_count": 60,
   "id": "869eca59-42e0-40a2-9c31-b0f3b1998938",
   "metadata": {},
   "outputs": [
    {
     "data": {
      "text/plain": [
       "Counter()"
      ]
     },
     "execution_count": 60,
     "metadata": {},
     "output_type": "execute_result"
    }
   ],
   "source": [
    "Counter(flatten(lowercase_reviews.no_punc.apply(lambda x: find_aspect_ngram(x, '', n=3)).dropna().values.tolist()))"
   ]
  },
  {
   "cell_type": "code",
   "execution_count": 59,
   "id": "f85c51ca-6b54-4db0-9879-56e1c2e1be6e",
   "metadata": {},
   "outputs": [],
   "source": [
    "sidecontent_aspects = ['side quests', 'side quest','sidequest','side-quest',\n",
    "                       'side adventures', 'side adventure','adventures side', 'side stories',\n",
    "                       'side content', 'side missions', 'find treasure','mini-games','minigames','mini games']\n",
    "\n",
    "sidecontent_aggterms = [('Side Quests',['side quests', 'side quest','sidequest','side-quest']),\n",
    "                        ('Side Adventures',['side adventures', 'side adventure','adventures side', 'side stories']),\n",
    "                        ('Misc Terms',[ 'side content', 'side missions', 'find treasure','mini-games','minigames','mini games'])]\n",
    "\n"
   ]
  },
  {
   "cell_type": "code",
   "execution_count": null,
   "id": "a11f6d54-37b5-45ee-a027-01e6e115d0f3",
   "metadata": {},
   "outputs": [],
   "source": [
    "lowercase_reviews['sidecontent_aspects'] = lowercase_reviews.no_punc.str.contains(create_pattern(sidecontent_aspects),regex=True)\n",
    "\n",
    "\n",
    "sidecontent_aspects_df = lowercase_reviews.query('sidecontent_aspects == True')\n",
    "\n",
    "sidecontent_aspects_df = (\n",
    "    sidecontent_aspects_df.assign(aspects_within= lambda df_: df_.lowercase_reviews.apply(lambda x: list(set(re.findall(create_pattern(sidecontent_aspects), x)))),\n",
    "                            sentence_aspects = lambda df_: df_.sent_tokenized_reviews.apply(lambda x: detect_aspects(x,sidecontent_aspects)))\n",
    "                    .drop(columns=['no_punc','sidecontent_aspects','lowercase_reviews'])\n",
    ")\n"
   ]
  },
  {
   "cell_type": "code",
   "execution_count": 65,
   "id": "016b2c57-ad95-45fa-b33a-afe167416144",
   "metadata": {},
   "outputs": [],
   "source": [
    "sidecontent_aspects_df.to_csv('totk_sidecontent_aspects.csv')\n",
    "\n",
    "lowercase_reviews.drop(columns = ['sidecontent_aspects'],inplace=True)"
   ]
  },
  {
   "cell_type": "code",
   "execution_count": 66,
   "id": "7dc53781-7a66-472f-a752-464a7e74d010",
   "metadata": {},
   "outputs": [],
   "source": [
    "del sidecontent_aspects_df"
   ]
  },
  {
   "cell_type": "markdown",
   "id": "24b68738-30df-4714-8451-062549fc3bf6",
   "metadata": {},
   "source": [
    "## World "
   ]
  },
  {
   "cell_type": "code",
   "execution_count": 102,
   "id": "1760f08d-584d-479b-b328-e611d473e89a",
   "metadata": {},
   "outputs": [
    {
     "data": {
      "text/plain": [
       "Counter({('the', 'zora'): 6,\n",
       "         ('zora', 's'): 4,\n",
       "         ('zora', 'and'): 3,\n",
       "         ('and', 'zora'): 2,\n",
       "         ('in', 'zora'): 1,\n",
       "         ('de', 'zora'): 1,\n",
       "         ('zora', 'cai'): 1,\n",
       "         ('zora', 'area'): 1,\n",
       "         ('goron', 'zora'): 1,\n",
       "         ('zora', 'one'): 1,\n",
       "         ('zora', 'dungeon'): 1,\n",
       "         ('zora', 'missions'): 1,\n",
       "         ('boots', 'zora'): 1,\n",
       "         ('add', 'zora'): 1,\n",
       "         ('zora', 'goron'): 1,\n",
       "         ('fly', 'zora'): 1,\n",
       "         ('zora', 'more'): 1,\n",
       "         ('lanayaru', 'zora'): 1,\n",
       "         ('zora', 'is'): 1})"
      ]
     },
     "execution_count": 102,
     "metadata": {},
     "output_type": "execute_result"
    }
   ],
   "source": [
    "Counter(flatten(lowercase_reviews.no_punc.apply(lambda x: find_aspect_ngram(x, 'zora', n=2)).dropna().values.tolist()))"
   ]
  },
  {
   "cell_type": "code",
   "execution_count": 140,
   "id": "ec03a69d-ce85-4724-ac51-9fe3f8483b2b",
   "metadata": {},
   "outputs": [],
   "source": [
    "world_aspects = ['open world','world building','the map','world map','new areas',\n",
    "                 'the depths', 'underground areas','underground area','under ground','the undergound','underground','underworld','under world',\n",
    "                 'sky','sky island','sky islands','sky areas','sky archipelago','the skies',\n",
    "                 'caves','cave',\n",
    "                 'wells',\n",
    "                 'hyrule','world of hyrule','hyrule map']\n",
    "\n",
    "world_aggterms = [('World',['open world','world building','the map','world map','new areas']),\n",
    "                  ('Depths',['the depths', 'underground areas','underground area','under ground','the undergound','underground','underworld','under world']),\n",
    "                  ('Sky',['sky','sky island','sky islands','sky areas','sky archipelago','the skies']),\n",
    "                  ('Caves',['caves','cave']),\n",
    "                  ('Wells',['wells']),\n",
    "                  ('Hyrule',['hyrule','world of hyrule','hyrule map'])]"
   ]
  },
  {
   "cell_type": "code",
   "execution_count": null,
   "id": "307c0452-f925-41d2-9625-a2a046e97123",
   "metadata": {},
   "outputs": [],
   "source": [
    "lowercase_reviews['world_aspects'] = lowercase_reviews.no_punc.str.contains(create_pattern(world_aspects),regex=True)\n",
    "\n",
    "\n",
    "world_aspects_df = lowercase_reviews.query('world_aspects == True')\n",
    "\n",
    "world_aspects_df = (\n",
    "    world_aspects_df.assign(aspects_within= lambda df_: df_.lowercase_reviews.apply(lambda x: list(set(re.findall(create_pattern(world_aspects), x)))),\n",
    "                            sentence_aspects = lambda df_: df_.sent_tokenized_reviews.apply(lambda x: detect_aspects(x,world_aspects)))\n",
    "                    .drop(columns=['no_punc','world_aspects','lowercase_reviews'])\n",
    ")\n"
   ]
  },
  {
   "cell_type": "code",
   "execution_count": 145,
   "id": "8197eb32-82dd-4415-bbbd-f8fcad30a911",
   "metadata": {},
   "outputs": [],
   "source": [
    "world_aspects_df.to_csv('totk_world_aspects.csv')\n",
    "\n",
    "lowercase_reviews.drop(columns = ['world_aspects'],inplace=True)"
   ]
  },
  {
   "cell_type": "code",
   "execution_count": 146,
   "id": "150cda15-6d96-4e4a-a374-068cbee86c82",
   "metadata": {},
   "outputs": [],
   "source": [
    "del world_aspects_df"
   ]
  },
  {
   "cell_type": "markdown",
   "id": "7fe93314-92c0-4f4a-95aa-4a615e395c2b",
   "metadata": {},
   "source": [
    "## Exploration and Traversal"
   ]
  },
  {
   "cell_type": "code",
   "execution_count": null,
   "id": "007191f5-995e-4f9c-8ca6-9abc8ba3a821",
   "metadata": {},
   "outputs": [],
   "source": [
    "Counter(flatten(lowercase_reviews.no_punc.apply(lambda x: find_aspect_ngram(x, 'mech', n=2)).dropna().values.tolist()))"
   ]
  },
  {
   "cell_type": "code",
   "execution_count": 157,
   "id": "e8953509-7c87-42b0-ac11-2f1fd6385c92",
   "metadata": {},
   "outputs": [],
   "source": [
    "exploration_aspects = ['world exploration', 'exploration','exploring','explore','exploring areas','explore areas',\n",
    "                       'climbing','climb',\n",
    "                       'horse','horses', 'horse riding','horseback riding',\n",
    "                       'vehicles','vehicle','flying machine','bike','air bike','hover bike','hoverbike','car',\n",
    "                       'battery', 'batteries','zonai charges', 'zonai charge',\n",
    "                       'glide','gliding','paraglider','paragliding',\n",
    "                       'diving','sky dive','sky diving','skydive','skydiving']\n",
    "\n",
    "exploration_aggterms = [('Exploration',['world exploration', 'exploration','exploring','explore','exploring areas','explore areas']),\n",
    "                        ('Climbing',['climbing','climb']),\n",
    "                        ('Horses',['horse','horses', 'horse riding','horseback riding']),\n",
    "                        ('Vehicles',['vehicles','vehicle','flying machine','bike','air bike','hover bike','hoverbike','car']),\n",
    "                        ('Gliding',['glide','gliding','paraglider','paragliding']),\n",
    "                        ('Skydiving',['diving','sky dive','sky diving','skydive','skydiving']),\n",
    "                        ('Battery',['battery', 'batteries','zonai charges', 'zonai charge'])]"
   ]
  },
  {
   "cell_type": "code",
   "execution_count": null,
   "id": "52289dc0-8767-4ee8-9d61-572c055803a6",
   "metadata": {},
   "outputs": [],
   "source": [
    "lowercase_reviews['exploration_aspects'] = lowercase_reviews.no_punc.str.contains(create_pattern(exploration_aspects),regex=True)\n",
    "\n",
    "\n",
    "exploration_aspects_df = lowercase_reviews.query('exploration_aspects == True')\n",
    "\n",
    "exploration_aspects_df = (\n",
    "    exploration_aspects_df.assign(aspects_within= lambda df_: df_.lowercase_reviews.apply(lambda x: list(set(re.findall(create_pattern(exploration_aspects), x)))),\n",
    "                            sentence_aspects = lambda df_: df_.sent_tokenized_reviews.apply(lambda x: detect_aspects(x,exploration_aspects)))\n",
    "                    .drop(columns=['no_punc','exploration_aspects','lowercase_reviews'])\n",
    ")\n"
   ]
  },
  {
   "cell_type": "code",
   "execution_count": 159,
   "id": "69842202-6383-499f-9b4a-7e2e3a8de77f",
   "metadata": {},
   "outputs": [],
   "source": [
    "exploration_aspects_df.to_csv('totk_exploration_aspects.csv')\n",
    "\n",
    "lowercase_reviews.drop(columns = ['exploration_aspects'],inplace=True)"
   ]
  },
  {
   "cell_type": "code",
   "execution_count": 160,
   "id": "167feea1-3caa-41b9-80a6-06416ae23323",
   "metadata": {},
   "outputs": [],
   "source": [
    "del exploration_aspects_df"
   ]
  },
  {
   "cell_type": "markdown",
   "id": "cc007e0f-da41-4756-b6d4-ea75913ef2ef",
   "metadata": {},
   "source": [
    "## Other"
   ]
  },
  {
   "cell_type": "code",
   "execution_count": null,
   "id": "2b1d5dea-4975-41ec-afc5-4a9ea6fccb0a",
   "metadata": {},
   "outputs": [],
   "source": [
    "Counter(flatten(lowercase_reviews.no_punc.apply(lambda x: find_aspect_ngram(x, 'inventory', n=2)).dropna().values.tolist()))"
   ]
  },
  {
   "cell_type": "code",
   "execution_count": 169,
   "id": "c0809dcf-0707-441f-a5c8-29102734d6f2",
   "metadata": {},
   "outputs": [],
   "source": [
    "other_aspects = ['user interface','ui','menu','menus','menu interface','interface','ability wheel',\n",
    "         'gameplay', 'game play',\n",
    "         'physics','physics engine','physic',\n",
    "         'mechanics',\n",
    "         'price','cost',\n",
    "         'collectibles','collectible','koroks','korok seeds',\n",
    "         'inventory']\n",
    "\n",
    "\n",
    "other_aggterms = [('UI',['user interface','ui','menu','menus','menu interface','interface','ability wheel']),\n",
    "                  ('Gameplay',['gameplay', 'game play']),\n",
    "                  ('Physics',['physics','physics engine','physic']),\n",
    "                  ('Mechanics',['mechanics']),\n",
    "                  ('Price',['price','cost']),\n",
    "                  ('Collectibles',['collectibles','collectible','koroks','korok seeds']),\n",
    "                  ('Inventory',['inventory'])]"
   ]
  },
  {
   "cell_type": "code",
   "execution_count": 170,
   "id": "e2fd305d-e812-468f-806d-f854598fe970",
   "metadata": {},
   "outputs": [
    {
     "data": {
      "text/plain": [
       "True"
      ]
     },
     "execution_count": 170,
     "metadata": {},
     "output_type": "execute_result"
    }
   ],
   "source": [
    "count=0\n",
    "for _,y in other_aggterms:\n",
    "    count += len(y)\n",
    "\n",
    "count == len(other_aspects)"
   ]
  },
  {
   "cell_type": "code",
   "execution_count": null,
   "id": "98dd61f5-cef9-4ea6-a5c0-40ed89a15555",
   "metadata": {},
   "outputs": [],
   "source": [
    "lowercase_reviews['other_aspects'] = lowercase_reviews.no_punc.str.contains(create_pattern(other_aspects),regex=True)\n",
    "\n",
    "\n",
    "other_aspects_df = lowercase_reviews.query('other_aspects == True')\n",
    "\n",
    "other_aspects_df = (\n",
    "    other_aspects_df.assign(aspects_within= lambda df_: df_.lowercase_reviews.apply(lambda x: list(set(re.findall(create_pattern(other_aspects), x)))),\n",
    "                            sentence_aspects = lambda df_: df_.sent_tokenized_reviews.apply(lambda x: detect_aspects(x,other_aspects)))\n",
    "                    .drop(columns=['no_punc','other_aspects','lowercase_reviews'])\n",
    ")\n"
   ]
  },
  {
   "cell_type": "code",
   "execution_count": 173,
   "id": "5aa38ea4-e359-4883-b115-932b6cda80b3",
   "metadata": {},
   "outputs": [],
   "source": [
    "other_aspects_df.to_csv('totk_other_aspects.csv')\n",
    "\n",
    "lowercase_reviews.drop(columns = ['other_aspects'],inplace=True)"
   ]
  }
 ],
 "metadata": {
  "kernelspec": {
   "display_name": "Python 3 (ipykernel)",
   "language": "python",
   "name": "python3"
  },
  "language_info": {
   "codemirror_mode": {
    "name": "ipython",
    "version": 3
   },
   "file_extension": ".py",
   "mimetype": "text/x-python",
   "name": "python",
   "nbconvert_exporter": "python",
   "pygments_lexer": "ipython3",
   "version": "3.11.7"
  }
 },
 "nbformat": 4,
 "nbformat_minor": 5
}
