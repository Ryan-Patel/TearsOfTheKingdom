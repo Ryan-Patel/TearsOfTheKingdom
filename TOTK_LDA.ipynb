{
 "cells": [
  {
   "cell_type": "markdown",
   "id": "fe48201e-0aa5-454f-8114-ee6050010c0b",
   "metadata": {},
   "source": [
    "# Topic Modelling The Legend of Zelda: Tears of the Kingdom Reviews\n",
    "\n",
    "In this notebook I'm going to use a Latent Dirichlet Allocation(LDA) model to identify the topics in user reviews for The Legend of Zelda: Tears of the Kingdom. We can use LDA in an exploratory way to determine which aspects of the game that players responded to negatively and positively. Therefore acknowledging areas for improvement in the future. \n",
    "\n",
    "I'll be using MALLET's (https://mimno.github.io/Mallet/) LDA Model, using little_mallet_wrapper (https://github.com/maria-antoniak/little-mallet-wrapper) for python implementation."
   ]
  },
  {
   "cell_type": "code",
   "execution_count": 1,
   "id": "cad22986-dbef-4069-9d68-b95c0a0eb236",
   "metadata": {},
   "outputs": [],
   "source": [
    "import re\n",
    "import pandas as pd\n",
    "\n",
    "# Gensim\n",
    "import gensim\n",
    "from gensim.models import CoherenceModel\n",
    "\n",
    "# spacy for lemmatization/stopwords\n",
    "import spacy\n",
    "from spacy.lang.en.stop_words import STOP_WORDS\n",
    "\n",
    "import matplotlib.pyplot as plt\n",
    "%matplotlib inline\n",
    "\n",
    "import warnings\n",
    "warnings.filterwarnings(\"ignore\",category=DeprecationWarning)"
   ]
  },
  {
   "cell_type": "code",
   "execution_count": 2,
   "id": "1a1df177-5071-4950-b4e2-241e7ca83240",
   "metadata": {},
   "outputs": [],
   "source": [
    "import seaborn as sns\n",
    "sns.set_style('darkgrid')"
   ]
  },
  {
   "cell_type": "code",
   "execution_count": 3,
   "id": "93b5e793-e689-408d-a1c5-2cff09120aad",
   "metadata": {},
   "outputs": [],
   "source": [
    "# Import necessary libraries\n",
    "import nltk\n",
    "from wordcloud import WordCloud\n",
    "from langdetect import detect\n",
    "import string"
   ]
  },
  {
   "cell_type": "markdown",
   "id": "3d66a4b0-120c-4e6c-b049-bedc985be982",
   "metadata": {},
   "source": [
    "#### Instantiating Review Data\n",
    "I'll need to create dataframes with the review data and create new columns categorising each review into three different sentiments based on their score.\n",
    "This follows the same standards seen on metacritic for scoring and allocated sentiments. "
   ]
  },
  {
   "cell_type": "code",
   "execution_count": 4,
   "id": "8f2e926b-1f59-403b-b05a-a5b7c20329db",
   "metadata": {},
   "outputs": [],
   "source": [
    "#instantiate dataframe from data:\n",
    "\n",
    "totk_reviews = pd.read_csv('totk_metacrit_user_reviews.csv')"
   ]
  },
  {
   "cell_type": "markdown",
   "id": "1ba5a1a7-45d8-4832-bb83-d3bf1f9a44af",
   "metadata": {},
   "source": [
    "#### Assign sentiments to scores based on metacritic designations"
   ]
  },
  {
   "cell_type": "code",
   "execution_count": 5,
   "id": "7a9a858d-afaa-4456-854f-67292839e61a",
   "metadata": {},
   "outputs": [],
   "source": [
    "positive_scores= [10,9,8]\n",
    "mixed_scores   = [5,6,7]\n",
    "negative_scores= [0,1,2,3,4] \n",
    "\n",
    "totk_reviews['review_sentiment'] = pd.Series(np.select(\n",
    "                                    [totk_reviews.score.isin(positive_scores),\n",
    "                                     totk_reviews.score.isin(mixed_scores),\n",
    "                                     totk_reviews.score.isin(negative_scores)],\n",
    "                                     ['positive','mixed','negative']))\n"
   ]
  },
  {
   "cell_type": "code",
   "execution_count": 6,
   "id": "9d7da010-5ba8-4a3d-80e9-4cf36037331c",
   "metadata": {},
   "outputs": [
    {
     "data": {
      "text/plain": [
       "<Axes: xlabel='review_sentiment'>"
      ]
     },
     "execution_count": 6,
     "metadata": {},
     "output_type": "execute_result"
    },
    {
     "data": {
      "image/png": "[encoded data removed]",
      "text/plain": [
       "<Figure size 640x480 with 1 Axes>"
      ]
     },
     "metadata": {},
     "output_type": "display_data"
    }
   ],
   "source": [
    "#Check the number of pos, neg and mixed written reviews.\n",
    "totk_reviews.review_sentiment.value_counts().plot.bar()"
   ]
  },
  {
   "cell_type": "markdown",
   "id": "0e682dae-c311-4f50-9b29-44802bca0ca1",
   "metadata": {},
   "source": [
    "There are about 5 times more positive reviews than negative+mixed reviews. I'll run a model for negative and mied reviews as well. As mixed reviews are likely to bring up similar complaints found in negative reviews."
   ]
  },
  {
   "cell_type": "markdown",
   "id": "d0978d24-9c5a-46b7-937c-e084690e5ae3",
   "metadata": {},
   "source": [
    "#### Text Preprocessing:\n",
    "\n",
    "I want to pre-process the review text before running the topic model.\n",
    "\n",
    "This will involve:\n",
    "- lower casing all text\n",
    "- detecting english language reviews\n",
    "- remove punctuation\n",
    "- remove stopwords and any irrelevant frequently occuring words.\n",
    "- lemmatizing words \n",
    "- remove any reviews that do not contain any alphabetic symbols\n",
    "- Detect and Translate any non english reviews\n",
    "- drop any duplicate reviews\n",
    "- removing any reviews that are just digits\n",
    "\n",
    "# ----------------------------------\n",
    "\n",
    "First I'll create a list of stopwords using nltks built in stopwords aswell as adding a few words that are likely to repeat themselve throughout the review but wouldn't be useful for our topic model. \n"
   ]
  },
  {
   "cell_type": "markdown",
   "id": "3169b38e-152c-45c6-a3dd-8be0c438a444",
   "metadata": {},
   "source": [
    "#### Removing Duplicate Reviews\n",
    "It's possible and very certain that within the gaming community there will be users who create multiple accounts to give the same exact review.\n",
    "So I will remove duplicates."
   ]
  },
  {
   "cell_type": "code",
   "execution_count": 7,
   "id": "5d089eb6-b959-4f54-8ebb-831daa202e27",
   "metadata": {},
   "outputs": [],
   "source": [
    "totk_reviews = totk_reviews.drop_duplicates(subset=['review_text'])"
   ]
  },
  {
   "cell_type": "markdown",
   "id": "f0d5c050-3c8b-4bbb-adab-585fcd9d0c24",
   "metadata": {},
   "source": [
    "#### Stopwords:\n",
    "I'll use the stopwords from the nltk library and add a few words and strings I suspect will appear in multiple reviews but won't be useful."
   ]
  },
  {
   "cell_type": "code",
   "execution_count": 8,
   "id": "c716a7f4-1a67-44ee-b071-b1e225abd65b",
   "metadata": {},
   "outputs": [],
   "source": [
    "nltk_stop_words = nltk.corpus.stopwords.words('english')\n",
    "\n",
    "stop_words =  list(STOP_WORDS)\n",
    "stop_words.extend(['game','legend','zelda','tears','kingdom','hyrule','totk','ztotk','wind','waker','skyward','sword','minecraft',\n",
    "                   'botw','breath','wild','skyrim']) ### these are common words that appear in almost all reviews \n",
    "\n",
    "for word in nltk_stop_words:\n",
    "    if word in stop_words: \n",
    "        continue\n",
    "    else: stop_words.append(word)"
   ]
  },
  {
   "cell_type": "code",
   "execution_count": 9,
   "id": "e5d87c6d-c1f6-4784-b0d4-ac8942f02599",
   "metadata": {},
   "outputs": [],
   "source": [
    "# Text PreProcessing functions\n",
    "\n",
    "#Removing punctuation\n",
    "\n",
    "def remove_punc(text):\n",
    "    text = re.sub('[%s]' % re.escape(string.punctuation), ' ', text)\n",
    "    return re.sub (r'[^\\w\\s]', ' ', text)\n",
    "\n",
    "#remove extraspaces\n",
    "def remove_extraspace(text):\n",
    "    return re.sub(r'\\s+', ' ', text)\n",
    "\n",
    "#remove digits\n",
    "def remove_digits(text):\n",
    "    return re.sub(r'\\d+', '', text)\n",
    "\n",
    "#lowercase text\n",
    "def lowercase_text(text):\n",
    "    return text.lower()\n",
    "\n",
    "#remove words from a list e.g. stopwords\n",
    "\n",
    "def remove_wordlist(text,wordlist):\n",
    "    for word in wordlist:\n",
    "        if word in text.split():\n",
    "            text = re.sub(r'\\b{}\\b'.format(word),'', text)\n",
    "    return text\n",
    "    \n",
    "#removes escape r from any text\n",
    "def remove_r(text):\n",
    "    return text.replace('\\r',' ')\n",
    "\n",
    "\n",
    "def cleanup_text(text):\n",
    "    text = lowercase_text(text)\n",
    "    text = remove_punc(text)\n",
    "    text = remove_digits(text)\n",
    "    text = remove_wordlist(text, stop_words)\n",
    "    text = remove_extraspace(text)\n",
    "    text = remove_r(text)\n",
    "    return text"
   ]
  },
  {
   "cell_type": "code",
   "execution_count": 10,
   "id": "fd5106ca-5689-44f9-8fd0-67279e90c3db",
   "metadata": {},
   "outputs": [],
   "source": [
    "\n",
    "def languagedetection(x):\n",
    "    if  x == '' or x== ' ':\n",
    "        return np.NaN\n",
    "    \n",
    "        #If the review_text value isan empty string, the function will return a nan value.\n",
    "        \n",
    "    else:\n",
    "        result = detect(x)\n",
    "        return  result\n"
   ]
  },
  {
   "cell_type": "code",
   "execution_count": 11,
   "id": "f57e325b-cf84-4cf1-91e0-eba490510bbc",
   "metadata": {},
   "outputs": [],
   "source": [
    "#import deep_translator to translate any non-english text.\n",
    "from deep_translator import (GoogleTranslator,\n",
    "                             PonsTranslator,\n",
    "                             LingueeTranslator,\n",
    "                             MyMemoryTranslator,\n",
    "                             YandexTranslator,\n",
    "                             single_detection,\n",
    "                             batch_detection)"
   ]
  },
  {
   "cell_type": "markdown",
   "id": "6c21c62e-7387-4c00-a014-3eb72e89f3e4",
   "metadata": {},
   "source": [
    "#### Cleaning Up Text\n",
    "First we'll cleanup the text by removing punctuation and digits"
   ]
  },
  {
   "cell_type": "code",
   "execution_count": 12,
   "id": "f8ab6ce8-b877-42f5-ac96-09df0875765b",
   "metadata": {},
   "outputs": [],
   "source": [
    "totk_reviews['cleaned_text'] = totk_reviews.review_text.apply(lambda x: cleanup_text(x))"
   ]
  },
  {
   "cell_type": "markdown",
   "id": "5fcf135f-c5e7-4dfb-88e2-f2b4acca4d91",
   "metadata": {},
   "source": [
    "#### Language Detection and Translation\n",
    "I'll assign a new column in the dataframe to be the review language found by applying the language detect function above to the review_text column.\n",
    "After we'll use the Google Translator method to translate all non_english reviews."
   ]
  },
  {
   "cell_type": "code",
   "execution_count": 13,
   "id": "67f8fe0e-a757-41cc-9e16-14f54f3a16ac",
   "metadata": {},
   "outputs": [],
   "source": [
    "import time\n",
    "def translate(x):\n",
    "    time.sleep(0.1)\n",
    "    return GoogleTranslator(source='auto', target= 'en').translate(text=x)"
   ]
  },
  {
   "cell_type": "code",
   "execution_count": 14,
   "id": "62e9316b-a470-4d01-8aaf-de5cc21f8c83",
   "metadata": {},
   "outputs": [],
   "source": [
    "totk_reviews['review_language'] = totk_reviews.cleaned_text.apply(lambda x: languagedetection(x))"
   ]
  },
  {
   "cell_type": "code",
   "execution_count": 15,
   "id": "ea93bc4c-ec32-497b-ba8a-61bcc3baf8bb",
   "metadata": {},
   "outputs": [],
   "source": [
    "#create 2 DataFrames: one with english reviews and the other with non-english reviews\n",
    "non_english_reviews = totk_reviews[totk_reviews['review_language']!='en']\n",
    "en_totk_reviews = totk_reviews[totk_reviews['review_language']=='en']"
   ]
  },
  {
   "cell_type": "code",
   "execution_count": 16,
   "id": "66a3acc7-b29f-4c6e-a893-8e568075975f",
   "metadata": {},
   "outputs": [
    {
     "name": "stderr",
     "output_type": "stream",
     "text": [
      "C:\\Users\\User\\AppData\\Local\\Temp\\ipykernel_12944\\3635759664.py:2: SettingWithCopyWarning: \n",
      "A value is trying to be set on a copy of a slice from a DataFrame.\n",
      "Try using .loc[row_indexer,col_indexer] = value instead\n",
      "\n",
      "See the caveats in the documentation: https://pandas.pydata.org/pandas-docs/stable/user_guide/indexing.html#returning-a-view-versus-a-copy\n",
      "  non_english_reviews['review_text'] = non_english_reviews.loc[slice(None),'review_text'].apply(lambda x : translate(x))\n",
      "C:\\Users\\User\\AppData\\Local\\Temp\\ipykernel_12944\\3635759664.py:4: SettingWithCopyWarning: \n",
      "A value is trying to be set on a copy of a slice from a DataFrame.\n",
      "Try using .loc[row_indexer,col_indexer] = value instead\n",
      "\n",
      "See the caveats in the documentation: https://pandas.pydata.org/pandas-docs/stable/user_guide/indexing.html#returning-a-view-versus-a-copy\n",
      "  non_english_reviews['cleaned_text'] = non_english_reviews.review_text.apply(lambda x: cleanup_text(x))\n"
     ]
    }
   ],
   "source": [
    "#Use the google translate module to translate all non-english text\n",
    "non_english_reviews['review_text'] = non_english_reviews.loc[slice(None),'review_text'].apply(lambda x : translate(x))\n",
    "\n",
    "non_english_reviews['cleaned_text'] = non_english_reviews.review_text.apply(lambda x: cleanup_text(x))\n"
   ]
  },
  {
   "cell_type": "code",
   "execution_count": 17,
   "id": "f1a2b846-f678-41c6-98e4-62e86320e154",
   "metadata": {},
   "outputs": [
    {
     "data": {
      "text/plain": [
       "review_sentiment\n",
       "positive    4318\n",
       "mixed        450\n",
       "negative     402\n",
       "Name: count, dtype: int64"
      ]
     },
     "execution_count": 17,
     "metadata": {},
     "output_type": "execute_result"
    }
   ],
   "source": [
    "#combine the english reviews with now translated non_english reviews\n",
    "\n",
    "full_translated_reviews = pd.concat([non_english_reviews, en_totk_reviews],axis=0)\n",
    "full_translated_reviews.review_sentiment.value_counts()"
   ]
  },
  {
   "cell_type": "markdown",
   "id": "709d0a0d-1caf-4657-aef8-21eb388ae5c5",
   "metadata": {},
   "source": [
    "Now that we have a dataframe full of english language reviews and we've verified that we still have the same amount as before we can go ahead and cleanup the text with the cleanuptext function."
   ]
  },
  {
   "cell_type": "markdown",
   "id": "080aab38-3bf6-4dfb-b7a7-d033e577a2c1",
   "metadata": {},
   "source": [
    "#### Lemmatizing the words in each review.\n",
    "This can help remove plurailty and redundant conjugations in text.\n",
    "\n",
    "First we need to tokenize all of the text and then lemmatize them. Finally we join them back together again to produce a cleaned up lemmatized sentence. \n",
    "\n",
    "I'll keep the lemmatized data in a separate column for comparisons sake."
   ]
  },
  {
   "cell_type": "code",
   "execution_count": 18,
   "id": "50986c00-7d21-4157-bce6-0618d1f5ad8d",
   "metadata": {},
   "outputs": [],
   "source": [
    "sp = spacy.load('en_core_web_sm')\n",
    "def lemmatize_words(text, allowed_postags=['NOUN', 'ADJ', 'VERB', 'ADV']):\n",
    " text = sp(text)\n",
    " lemmed_string =''\n",
    " for word in text:\n",
    "     if word.pos_ in allowed_postags:\n",
    "         if word.lemma_ == '-PRON-' or word.lemma_ in stop_words: \n",
    "    # skip words that are not in allowed postags or becomes a stopword when lemmatized \n",
    "             continue \n",
    "         else: lemmed_string = lemmed_string+' '+word.lemma_\n",
    " return lemmed_string.lstrip()\n"
   ]
  },
  {
   "cell_type": "code",
   "execution_count": 19,
   "id": "966fa546-f72b-4716-935a-7d25562baae7",
   "metadata": {},
   "outputs": [],
   "source": [
    "#Create a column with lemmatized versions of the reviews\n",
    "full_translated_reviews['lemmatized_reviews'] = (full_translated_reviews['cleaned_text']\n",
    "                                                 .apply(lambda x:lemmatize_words(x, allowed_postags=['NOUN', 'VERB']))\n",
    "                                                )\n",
    "\n",
    "\n"
   ]
  },
  {
   "cell_type": "markdown",
   "id": "0115ca13-fed9-470a-8d4c-227aaccbffd0",
   "metadata": {},
   "source": [
    "#### Removing Rare Words\n",
    "By removing rare words from the corpus we can improve the model by ensuring no rare words are fed into it. Ensuring only the more relevant terms are informing it."
   ]
  },
  {
   "cell_type": "code",
   "execution_count": 20,
   "id": "9957692b-8876-489b-9d78-ee32431315d6",
   "metadata": {},
   "outputs": [],
   "source": [
    "### list all words that appear in less than 4 documents, and remove them from the reviews \n",
    "from collections import Counter\n",
    "\n",
    "word_frequency = Counter()\n",
    "\n",
    "for text in full_translated_reviews.cleaned_text:\n",
    "    text = text.split()\n",
    "    word_frequency.update(set(text)) \n",
    "\n",
    "rare_words = []\n",
    "\n",
    "for key, value in word_frequency.items():\n",
    "    if value < 4:\n",
    "        rare_words.append(key)"
   ]
  },
  {
   "cell_type": "code",
   "execution_count": 21,
   "id": "4f14d696-4beb-45f9-98c2-b0b584e38912",
   "metadata": {},
   "outputs": [],
   "source": [
    "full_translated_reviews['cleaned_text_nonrare'] = full_translated_reviews['cleaned_text'].apply(lambda x:remove_wordlist(x,rare_words)) "
   ]
  },
  {
   "cell_type": "code",
   "execution_count": 22,
   "id": "64cd8f57-e3f4-45b6-aef2-312ccbbbf06f",
   "metadata": {},
   "outputs": [],
   "source": [
    "word_frequency = Counter()\n",
    "\n",
    "for text in full_translated_reviews.lemmatized_reviews:\n",
    "    text = text.split()\n",
    "    word_frequency.update(set(text)) \n",
    "\n",
    "rare_words = []\n",
    "\n",
    "for key, value in word_frequency.items():\n",
    "    if value < 4:\n",
    "        rare_words.append(key)"
   ]
  },
  {
   "cell_type": "code",
   "execution_count": 23,
   "id": "fa958881-a51f-4cdc-8edd-a58071c1e6f8",
   "metadata": {},
   "outputs": [],
   "source": [
    "full_translated_reviews['lemmatized_reviews_nonrare'] = full_translated_reviews['lemmatized_reviews'].apply(lambda x:remove_wordlist(x,rare_words))"
   ]
  },
  {
   "cell_type": "markdown",
   "id": "c2960258-fe78-4516-be59-41f7e50386c2",
   "metadata": {},
   "source": [
    "## Removing uneccessary words:\n",
    "There will be some words appear frequently but wouldn't help us other than to reflect the sentiment of the reviewer, which we already know. So by generating a list of the top 50 words appearing in the reviews for each sentiment we can take a look and see what words we can remove. "
   ]
  },
  {
   "cell_type": "code",
   "execution_count": 25,
   "id": "7cb01379-ff45-4812-ac3d-fc3d2a20d33c",
   "metadata": {},
   "outputs": [
    {
     "name": "stdout",
     "output_type": "stream",
     "text": [
      "   Negative Words\n",
      " ['feel' 'play' 'time' 'story' 'world' 'map' 'weapon' 'mechanic' 'nintendo'\n",
      " 'thing' 'year' 'find' 'way' 'shrine' 'graphic' 'dungeon' 'want' 'fun'\n",
      " 'puzzle' 'hour' 'gameplay' 'look' 'break' 'character' 'people' 'lot'\n",
      " 'build' 'need' 'dlc' 'item' 'think' 'fan' 'system' 'switch' 'experience'\n",
      " 'bore' 'price' 'sky' 'use' 'combat' 'boss' 'run' 'quest' 'add' 'enemy'\n",
      " 'content' 'try' 'building' 'change' 'fps' 'know' 'island' 'fight'\n",
      " 'sequel' 'title' 'point' 'end' 'start' 'depth' 'power' 'player' 'come'\n",
      " 'design' 'work' 'lack' 'waste' 'copy' 'problem' 'place' 'review'\n",
      " 'ability' 'spend' 'performance' 'stuff' 'quality'] \n",
      "\n",
      "   Negative/Mixed Words\n",
      " ['feel' 'story' 'time' 'play' 'world' 'weapon' 'thing' 'mechanic' 'map'\n",
      " 'way' 'find' 'dungeon' 'hour' 'fun' 'shrine' 'year' 'nintendo' 'lot'\n",
      " 'gameplay' 'puzzle' 'want' 'sky' 'look' 'think' 'enemy' 'graphic' 'add'\n",
      " 'build' 'need' 'quest' 'experience' 'character' 'combat' 'system' 'boss'\n",
      " 'explore' 'island' 'use' 'people' 'ability' 'break' 'change' 'end' 'area'\n",
      " 'switch' 'depth' 'dlc' 'player' 'design' 'know' 'item' 'fan' 'point'\n",
      " 'work' 'try' 'love' 'sequel' 'enjoy' 'come' 'issue' 'stuff' 'bore'\n",
      " 'start' 'power' 'exploration' 'fight' 'content' 'problem' 'music' 'copy'\n",
      " 'lack' 'run' 'place' 'review' 'price'] \n",
      "\n",
      "   Positive Words\n",
      " ['play' 'story' 'world' 'time' 'feel' 'mechanic' 'thing' 'way' 'map'\n",
      " 'hour' 'fun' 'gameplay' 'love' 'year' 'explore' 'think' 'lot'\n",
      " 'experience' 'nintendo' 'sequel' 'sky' 'ability' 'switch' 'masterpiece'\n",
      " 'want' 'improve' 'people' 'find' 'weapon' 'add' 'player' 'dungeon'\n",
      " 'puzzle' 'change' 'boss' 'exploration' 'review' 'quest' 'enjoy' 'graphic'\n",
      " 'enemy' 'know' 'look' 'island' 'come' 'create' 'video' 'adventure'\n",
      " 'character' 'depth' 'work' 'build' 'shrine' 'content' 'area' 'combat'\n",
      " 'use' 'design' 'recommend' 'predecessor' 'creativity' 'end' 'freedom'\n",
      " 'link' 'fan' 'point' 'life' 'level' 'system' 'problem' 'need' 'aspect'\n",
      " 'drop' 'start' 'bit']\n"
     ]
    }
   ],
   "source": [
    "#create a series of the lemmatized negative review text\n",
    "lemmed_negative_words = full_translated_reviews[full_translated_reviews['review_sentiment']=='negative'].lemmatized_reviews_nonrare\n",
    "lemmed_negmixed_words = full_translated_reviews[full_translated_reviews['review_sentiment']!='positive'].lemmatized_reviews_nonrare\n",
    "lemmed_positive_words = full_translated_reviews[full_translated_reviews['review_sentiment']=='positive'].lemmatized_reviews_nonrare\n",
    "\n",
    "topx_negative = pd.Series((' '.join(rev for rev in lemmed_negative_words)).split()).value_counts()[:75]\n",
    "topx_negmix = pd.Series((' '.join(rev for rev in lemmed_negmixed_words)).split()).value_counts()[:75]\n",
    "topx_positive = pd.Series((' '.join(rev for rev in lemmed_positive_words)).split()).value_counts()[:75]\n",
    "\n",
    "print('   Negative Words' + '\\n' ,topx_negative.index.values, '\\n')\n",
    "print('   Negative/Mixed Words' + '\\n' ,topx_negmix.index.values, '\\n')\n",
    "print('   Positive Words' + '\\n' ,topx_positive.index.values)"
   ]
  },
  {
   "cell_type": "markdown",
   "id": "7a6d00c7-0621-460c-bfc2-f879a89d334b",
   "metadata": {},
   "source": [
    "#### Words to Remove\n",
    "From the lists we can remove the following: \\\n",
    "find, look, need, use, run, add, try, come, title, lack, area, work, enjoy, stuff, start, improve, change, recommend, play, thing, know, player, need, fan, want, stuff, love, goty, aspect, bit, drop, video, way, think, year\n"
   ]
  },
  {
   "cell_type": "markdown",
   "id": "e15adc15-d24d-43d9-857d-221f2174c6f4",
   "metadata": {},
   "source": [
    "#### Removing the words\n",
    "(PLUS A FEW OTHERS I CAN THINK OF)"
   ]
  },
  {
   "cell_type": "code",
   "execution_count": 45,
   "id": "0e3e4c56-9c1f-475a-9deb-ce9904df212d",
   "metadata": {},
   "outputs": [],
   "source": [
    "recurring_words = ['play','want','makes','think','people','sequel','switch','lot','feels','feel','things','thing','fell','hours','way',\n",
    "                  'totk','nintendo','games','game','breath','wild','new','like','botw','ztotk','aaa','triple a','company',\n",
    "                   'triplea','skyward','sword','etc','wind','waker','link','minecraft','reviews','review','skyrim','good','great',\n",
    "                   'know','amazing','best','better','fun','thing','masterpiece','boring','bore', 'find','look','need','needs','uses','use',\n",
    "                    'run','running','add','try','come','title','lack','area','work','enjoy','stuff','start','improve','change','recommend','years',\n",
    "                   'player','fan','love','goty','video','way','aspect','bit','drop','franchise','favourite','favorite','perfect','release',\n",
    "                  'rate','incredible','year','beautiful','abolutely','wait','simply']\n",
    "full_translated_reviews['cleaned_text_nonrare']=full_translated_reviews.cleaned_text_nonrare.apply(lambda x : \" \".join(word for word in x.split() if word not in recurring_words))\n"
   ]
  },
  {
   "cell_type": "code",
   "execution_count": 46,
   "id": "157e7f9a-403b-4a59-8fde-434d080bc21c",
   "metadata": {},
   "outputs": [],
   "source": [
    "full_translated_reviews['lemmatized_reviews_nonrare'] = full_translated_reviews.cleaned_text_nonrare.apply(lambda x: lemmatize_words(x))"
   ]
  },
  {
   "cell_type": "code",
   "execution_count": 47,
   "id": "6fdcaeb9-f6cc-4d0a-80e5-41a4c218fa93",
   "metadata": {},
   "outputs": [],
   "source": [
    "full_translated_reviews['lemmatized_reviews_nonrare']=full_translated_reviews.lemmatized_reviews_nonrare.apply(lambda x : \" \".join(word for word in x.split() if word not in recurring_words))"
   ]
  },
  {
   "cell_type": "markdown",
   "id": "4386d051-9886-41e7-a226-31dcb1b07d0c",
   "metadata": {},
   "source": [
    "#### Saving a copy of the updated dataframe for future use:\n"
   ]
  },
  {
   "cell_type": "code",
   "execution_count": 48,
   "id": "b0661d2c-4a9d-4dbf-98d3-debab3c0e973",
   "metadata": {},
   "outputs": [],
   "source": [
    "full_translated_reviews.to_csv('cleaned_totk_reviews.csv',index=False)"
   ]
  },
  {
   "cell_type": "markdown",
   "id": "f36ec2fe-77b9-44f4-9254-91646a3eb960",
   "metadata": {},
   "source": [
    "# LDA MODEL WITH MALLET\n",
    "I'll use litte_mallet_wrapper, a wrapper that alows implementation of MALLETS LDA from within python."
   ]
  },
  {
   "cell_type": "code",
   "execution_count": 30,
   "id": "02e97649-74c2-43ca-bab1-511d88745be8",
   "metadata": {},
   "outputs": [],
   "source": [
    "import little_mallet_wrapper as lmw\n",
    "from pathlib import Path\n"
   ]
  },
  {
   "cell_type": "code",
   "execution_count": 31,
   "id": "4628cae7-99e4-4587-87f8-413bc9973309",
   "metadata": {},
   "outputs": [],
   "source": [
    "from gensim import models"
   ]
  },
  {
   "cell_type": "markdown",
   "id": "3b84ca5b-5353-4bdb-a353-0008f688dab9",
   "metadata": {},
   "source": [
    "### Creating Models for Negative, Positive and Nega/Mixed Reviews.\n",
    " First we will create our datasets for positive, negative and neg/mixed reviews. The LDA model only requires the documents in the corpus in the form of an array. However to calculate coherence scores, so we can determine which number of topics creates the est model we also require a tokenized version of the data to form the dictionary. \n",
    "\n",
    " We will also create equivalent datasets using the lemmatized data."
   ]
  },
  {
   "cell_type": "markdown",
   "id": "e778ae8a-84cc-40b8-991c-151ed1a07112",
   "metadata": {},
   "source": [
    "#### DATA WITH CLEANED UP TEXT"
   ]
  },
  {
   "cell_type": "code",
   "execution_count": 49,
   "id": "f1d56d6d-221f-4e59-bb9e-51cb984cbb7f",
   "metadata": {},
   "outputs": [],
   "source": [
    "data_neg =    ( full_translated_reviews[full_translated_reviews['review_sentiment']=='negative']\n",
    "                                .cleaned_text_nonrare\n",
    "                                .values.tolist()\n",
    "              )\n",
    "\n",
    "\n",
    "data_neg_tok =( full_translated_reviews[full_translated_reviews['review_sentiment']=='negative']\n",
    "                                .cleaned_text_nonrare\n",
    "                                .apply(lambda x: x.split()).tolist()\n",
    "              )\n",
    "\n",
    "data_pos =    ( full_translated_reviews[full_translated_reviews['review_sentiment']=='positive']\n",
    "                                .cleaned_text_nonrare\n",
    "                                .values.tolist()\n",
    "              )\n",
    "\n",
    "\n",
    "data_pos_tok =( full_translated_reviews[full_translated_reviews['review_sentiment']=='positive']\n",
    "                                .cleaned_text_nonrare\n",
    "                                .apply(lambda x: x.split()).tolist()\n",
    "              )\n",
    "\n",
    "\n",
    "data_negmix =    ( full_translated_reviews[full_translated_reviews['review_sentiment']!='positive']\n",
    "                                .cleaned_text_nonrare\n",
    "                                .values.tolist()\n",
    "              )\n",
    "\n",
    "\n",
    "data_negmix_tok =( full_translated_reviews[full_translated_reviews['review_sentiment']!='positive']\n",
    "                                .cleaned_text_nonrare\n",
    "                                .apply(lambda x: x.split()).tolist()\n",
    "              )"
   ]
  },
  {
   "cell_type": "markdown",
   "id": "a1585331-38bf-4905-b76f-7cbc561ed401",
   "metadata": {},
   "source": [
    "#### DATA WITH CLEANED UP LEMMATIZED TEXT"
   ]
  },
  {
   "cell_type": "code",
   "execution_count": 50,
   "id": "bcbc10b5-2d74-40ad-828a-3fc38bc73311",
   "metadata": {},
   "outputs": [],
   "source": [
    "lem_data_neg =    ( full_translated_reviews[full_translated_reviews['review_sentiment']=='negative']\n",
    "                                .lemmatized_reviews_nonrare\n",
    "                                .values.tolist()\n",
    "              )\n",
    "\n",
    "\n",
    "lem_data_neg_tok =( full_translated_reviews[full_translated_reviews['review_sentiment']=='negative']\n",
    "                                .lemmatized_reviews_nonrare\n",
    "                                .apply(lambda x: x.split()).tolist()\n",
    "              )\n",
    "\n",
    "lem_data_pos =    ( full_translated_reviews[full_translated_reviews['review_sentiment']=='positive']\n",
    "                                .lemmatized_reviews_nonrare\n",
    "                                .values.tolist()\n",
    "              )\n",
    "\n",
    "\n",
    "lem_data_pos_tok =( full_translated_reviews[full_translated_reviews['review_sentiment']=='positive']\n",
    "                                .lemmatized_reviews_nonrare\n",
    "                                .apply(lambda x: x.split()).tolist()\n",
    "              )\n",
    "\n",
    "\n",
    "lem_data_negmix =    ( full_translated_reviews[full_translated_reviews['review_sentiment']!='positive']\n",
    "                                .lemmatized_reviews_nonrare\n",
    "                                .values.tolist()\n",
    "              )\n",
    "\n",
    "\n",
    "lem_data_negmix_tok =( full_translated_reviews[full_translated_reviews['review_sentiment']!='positive']\n",
    "                                .lemmatized_reviews_nonrare\n",
    "                                .apply(lambda x: x.split()).tolist()\n",
    "              )"
   ]
  },
  {
   "cell_type": "code",
   "execution_count": 34,
   "id": "9841fef3-07f5-4347-90f5-3a4bee57dd22",
   "metadata": {},
   "outputs": [],
   "source": [
    "path_to_mallet = \"C:/Mallet/bin/mallet.bat\""
   ]
  },
  {
   "cell_type": "code",
   "execution_count": 35,
   "id": "d01b424d-8ccb-4ea6-8342-663eaabab442",
   "metadata": {},
   "outputs": [],
   "source": [
    "#set desired output directory\n",
    "output_directory_path = \"/Users/User/Documents/PythonScripts/EDApractice/totk_lmw_prac\" # CHANGE THIS TO YOUR OUTPUT DIRECTORY\n",
    "\n",
    "Path(f\"{output_directory_path}\").mkdir(parents=True, exist_ok=True)\n",
    "\n",
    "path_to_training_data           = output_directory_path + '/training.txt'\n",
    "path_to_formatted_training_data = output_directory_path + '/mallet.training'\n",
    "#path_to_model                   = output_directory_path + '/mallet.model.' + str(num_topics)\n",
    "#path_to_topic_keys              = output_directory_path + '/mallet.topic_keys.' + str(num_topics)\n",
    "#path_to_topic_distributions     = output_directory_path + '/mallet.topic_distributions.' + str(num_topics)\n",
    "#path_to_word_weights            = output_directory_path + '/mallet.word_weights.' + str(num_topics)\n",
    "#path_to_diagnostics             = output_directory_path + '/mallet.diagnostics.' + str(num_topics) + '.xml'"
   ]
  },
  {
   "cell_type": "code",
   "execution_count": 36,
   "id": "43595f5d-d6e3-4abd-8dab-748029a48c02",
   "metadata": {},
   "outputs": [],
   "source": [
    "def ldatopicmodel(corpus, training_data, text, id2word,start=2,limit=7,step=1):\n",
    "    \n",
    "    model_num  = []\n",
    "    t_keys     = []\n",
    "    coherence_scores = []\n",
    "  \n",
    "    lmw.import_data(path_to_mallet,\n",
    "                    path_to_training_data,\n",
    "                    path_to_formatted_training_data,\n",
    "                    training_data\n",
    "                    )\n",
    "    \n",
    "    for num in range(start,limit,step):\n",
    "\n",
    "        model_num.append(num)\n",
    "        num_topics = num\n",
    "\n",
    "        path_to_model                   = output_directory_path + '/mallet.model.' + str(num_topics)\n",
    "        path_to_topic_keys              = output_directory_path + '/mallet.topic_keys.' + str(num_topics)\n",
    "        path_to_topic_distributions     = output_directory_path + '/mallet.topic_distributions.' + str(num_topics)\n",
    "        path_to_word_weights            = output_directory_path + '/mallet.word_weights.' + str(num_topics)\n",
    "        path_to_diagnostics             = output_directory_path + '/mallet.diagnostics.' + str(num_topics) + '.xml'\n",
    "                \n",
    "        lmw.train_topic_model(path_to_mallet,\n",
    "                              path_to_formatted_training_data,\n",
    "                              path_to_model,\n",
    "                              path_to_topic_keys,\n",
    "                              path_to_topic_distributions,\n",
    "                              path_to_word_weights,\n",
    "                              path_to_diagnostics,\n",
    "                              num_topics)\n",
    "    \n",
    "        \n",
    "        topic_keys = lmw.load_topic_keys(path_to_topic_keys)\n",
    "        t_keys.append(topic_keys)\n",
    "        \n",
    "        cm = CoherenceModel(\n",
    "        topics=topic_keys,\n",
    "        texts=text,\n",
    "        corpus=corpus,\n",
    "        dictionary=id2word,\n",
    "        coherence='c_v')\n",
    "    \n",
    "        coherence_scores.append(cm.get_coherence())\n",
    "    return coherence_scores, model_num, t_keys"
   ]
  },
  {
   "cell_type": "markdown",
   "id": "c0f31460-d4b3-4c18-a875-e6c361394a51",
   "metadata": {},
   "source": [
    "## Positive Review Topics"
   ]
  },
  {
   "cell_type": "code",
   "execution_count": 51,
   "id": "81eb85ff-3040-4e64-bd1a-1639e8ae80f4",
   "metadata": {},
   "outputs": [
    {
     "name": "stdout",
     "output_type": "stream",
     "text": [
      "Importing data...\n",
      "Complete\n",
      "Training topic model...\n",
      "Complete\n",
      "Training topic model...\n",
      "Complete\n",
      "Training topic model...\n",
      "Complete\n",
      "Training topic model...\n",
      "Complete\n"
     ]
    }
   ],
   "source": [
    "#id2word = corpora.Dictionary(data_pos_tok)\n",
    "#corpus = [id2word.doc2bow(text) for text in data_pos_tok]\n",
    "#training_data = data_pos\n",
    "#text = data_pos_tok\n",
    "#pos_cm_score, pos_model_numbers, pos_t_keys = ldatopicmodel(corpus, training_data, text, id2word, start=3,limit=7,step=1)\n",
    "\n",
    "id2word = corpora.Dictionary(lem_data_pos_tok)\n",
    "corpus = [id2word.doc2bow(text) for text in lem_data_pos_tok]\n",
    "training_data = lem_data_pos\n",
    "text = lem_data_pos_tok\n",
    "lem_pos_cm_score, lem_pos_model_numbers, lem_pos_t_keys = ldatopicmodel(corpus, training_data, text, id2word, start=3,limit=7,step=1)"
   ]
  },
  {
   "cell_type": "code",
   "execution_count": 52,
   "id": "819323d5-f795-4d39-b5e8-5cacc83c229a",
   "metadata": {},
   "outputs": [
    {
     "data": {
      "text/plain": [
       "<matplotlib.legend.Legend at 0x2ae8ff64250>"
      ]
     },
     "execution_count": 52,
     "metadata": {},
     "output_type": "execute_result"
    },
    {
     "data": {
      "image/png": "[encoded data removed]",
      "text/plain": [
       "<Figure size 400x300 with 1 Axes>"
      ]
     },
     "metadata": {},
     "output_type": "display_data"
    }
   ],
   "source": [
    "plt.figure(figsize=(4,3))\n",
    "plt.plot(pos_model_numbers, pos_cm_score,label = 'Unlemmatized')\n",
    "plt.plot(lem_pos_model_numbers, lem_pos_cm_score,label='Lemmatized')\n",
    "plt.legend()\n"
   ]
  },
  {
   "cell_type": "markdown",
   "id": "933b42ba-b976-4dc0-87c6-e5fe8a193878",
   "metadata": {},
   "source": [
    "### Negative Reviews Topic Models"
   ]
  },
  {
   "cell_type": "code",
   "execution_count": 59,
   "id": "558f2d3a-29dd-4772-bce5-69078ae4a07f",
   "metadata": {},
   "outputs": [
    {
     "name": "stdout",
     "output_type": "stream",
     "text": [
      "Importing data...\n",
      "Complete\n",
      "Training topic model...\n",
      "Complete\n",
      "Training topic model...\n",
      "Complete\n",
      "Training topic model...\n",
      "Complete\n",
      "Training topic model...\n",
      "Complete\n"
     ]
    }
   ],
   "source": [
    "#id2word = corpora.Dictionary(data_neg_tok)\n",
    "#corpus = [id2word.doc2bow(text) for text in data_neg_tok]\n",
    "#training_data = data_neg\n",
    "#text = data_neg_tok\n",
    "#neg_cm_score, neg_model_numbers, neg_t_keys = ldatopicmodel(corpus, training_data, text, id2word, start=3,limit=7,step=1)\n",
    "\n",
    "id2word = corpora.Dictionary(lem_data_neg_tok)\n",
    "corpus = [id2word.doc2bow(text) for text in lem_data_neg_tok]\n",
    "training_data = lem_data_neg\n",
    "text = lem_data_neg_tok\n",
    "lem_neg_cm_score, lem_neg_model_numbers, lem_neg_t_keys = ldatopicmodel(corpus, training_data, text, id2word, start=3,limit=7,step=1)\n",
    "\n"
   ]
  },
  {
   "cell_type": "code",
   "execution_count": 60,
   "id": "bedc4d86-9870-419b-85e0-64f1294bf180",
   "metadata": {},
   "outputs": [
    {
     "data": {
      "text/plain": [
       "<matplotlib.legend.Legend at 0x2ae90510890>"
      ]
     },
     "execution_count": 60,
     "metadata": {},
     "output_type": "execute_result"
    },
    {
     "data": {
      "image/png": "[encoded data removed]",
      "text/plain": [
       "<Figure size 400x300 with 1 Axes>"
      ]
     },
     "metadata": {},
     "output_type": "display_data"
    }
   ],
   "source": [
    "plt.figure(figsize=(4,3))\n",
    "plt.plot(neg_model_numbers, neg_cm_score,label = 'Unlemmatized')\n",
    "plt.plot(lem_neg_model_numbers, lem_neg_cm_score,label='Lemmatized')\n",
    "plt.legend()\n"
   ]
  },
  {
   "cell_type": "markdown",
   "id": "b84b0827-92f7-4bb5-8bab-b69a0f32cc55",
   "metadata": {},
   "source": [
    "### NEGATIVE/MIXED REVIEW TOPIC MODEL"
   ]
  },
  {
   "cell_type": "code",
   "execution_count": 55,
   "id": "3d074879-a3c6-46f4-a807-443793d01f56",
   "metadata": {},
   "outputs": [
    {
     "name": "stdout",
     "output_type": "stream",
     "text": [
      "Importing data...\n",
      "Complete\n",
      "Training topic model...\n",
      "Complete\n",
      "Training topic model...\n",
      "Complete\n",
      "Training topic model...\n",
      "Complete\n",
      "Training topic model...\n",
      "Complete\n"
     ]
    }
   ],
   "source": [
    "#id2word = corpora.Dictionary(data_negmix_tok)\n",
    "#corpus = [id2word.doc2bow(text) for text in data_negmix_tok]\n",
    "#training_data = data_negmix\n",
    "#text = data_negmix_tok\n",
    "#negmix_cm_score, negmix_model_numbers, negmix_t_keys = ldatopicmodel(corpus, training_data, text, id2word, start=3,limit=7,step=1)\n",
    "\n",
    "\n",
    "id2word = corpora.Dictionary(lem_data_negmix_tok)\n",
    "corpus = [id2word.doc2bow(text) for text in lem_data_negmix_tok]\n",
    "training_data = lem_data_negmix\n",
    "text = lem_data_negmix_tok\n",
    "lem_negmix_cm_score, lem_negmix_model_numbers, lem_negmix_t_keys = ldatopicmodel(corpus, training_data, text, id2word, start=3,limit=7,step=1)\n",
    "\n"
   ]
  },
  {
   "cell_type": "code",
   "execution_count": 56,
   "id": "838537ed-b459-4810-a438-9241b3847b3f",
   "metadata": {},
   "outputs": [
    {
     "data": {
      "text/plain": [
       "<matplotlib.legend.Legend at 0x2ae89a5d4d0>"
      ]
     },
     "execution_count": 56,
     "metadata": {},
     "output_type": "execute_result"
    },
    {
     "data": {
      "image/png": "[encoded data removed]",
      "text/plain": [
       "<Figure size 400x300 with 1 Axes>"
      ]
     },
     "metadata": {},
     "output_type": "display_data"
    }
   ],
   "source": [
    "plt.figure(figsize=(4,3))\n",
    "plt.plot(negmix_model_numbers, negmix_cm_score,label = 'Unlemmatized') \n",
    "plt.plot(lem_negmix_model_numbers, lem_negmix_cm_score,label = 'Lemmatized') \n",
    "plt.legend()"
   ]
  },
  {
   "cell_type": "markdown",
   "id": "bc8a173a-9d6e-46ee-a900-f178f8ce9448",
   "metadata": {},
   "source": [
    "# Topic Summary \n",
    "I've chosen the topic models with greater coherence scores. In some cases there are a few words that appear in more than one topic. I have tried to summarise these as best I can into 1 or two words based on the other words in the topic. Ultimately we can get a clear picture of what kind of things players discuss in their positive, negative or mixed reviews.\n",
    "\n"
   ]
  },
  {
   "cell_type": "code",
   "execution_count": 62,
   "id": "fed7644e-cd2b-491e-8a05-b3ee8d34fbc3",
   "metadata": {},
   "outputs": [
    {
     "name": "stdout",
     "output_type": "stream",
     "text": [
      "Positive Review Topics\n",
      "\n",
      "1 \t graphic bad fps performance console issue problem score frame little fix hardware dlc time point\n",
      "2 \t time year experience absolutely wait finish life long day end stop spend buy gaming worth\n",
      "3 \t world story mechanic open gameplay beautiful simply explore freedom time predecessor previous map creativity history\n",
      "4 \t gameplay experience world adventure character challenge series design narrative truly set create captivate engage moment\n",
      "5 \t weapon fuse time hand ability puzzle item combat system enemy solve build allow world break\n",
      "6 \t map story sky explore dungeon boss island world ability depth quest underground enemy different main\n",
      "\n",
      "Negative Review Topics\n",
      "\n",
      "1 \t weapon puzzle item build shrine break time dungeon fight enemy mechanic combat content fuse building\n",
      "2 \t map story sky repetitive time character shrine depth pretty interesting main island quest boss place\n",
      "3 \t bad story world time mechanic graphic previous gameplay experience open dlc long old problem system\n",
      "4 \t map fps graphic issue price low critic quality hardware score developer high charge fact poor\n",
      "\n",
      "Negative/Mixed Review Topics\n",
      "\n",
      "1 \t sky story dungeon map island shrine time big boss quest depth explore interesting main ability\n",
      "2 \t gameplay adventure character experience completely create narrative far true close development expect construction addition develop\n",
      "3 \t world story bad mechanic time gameplay open previous dlc old experience build problem map issue\n",
      "4 \t graphic fps console performance quality price hardware low poor critic level voice high developer score\n",
      "5 \t weapon enemy time break puzzle item shrine combat system spend fuse grind annoying arrow material\n"
     ]
    }
   ],
   "source": [
    "print('Positive Review Topics' + '\\n')\n",
    "for i, t in enumerate(lem_pos_t_keys[3]):\n",
    "    print(i+1, '\\t', ' '.join(t[:15]))\n",
    "\n",
    "print('\\n'+'Negative Review Topics' + '\\n')\n",
    "for i, t in enumerate(lem_neg_t_keys[1]):\n",
    "    print(i+1, '\\t', ' '.join(t[:15]))\n",
    "\n",
    "print('\\n'+'Negative/Mixed Review Topics' + '\\n')\n",
    "for i, t in enumerate(lem_negmix_t_keys[2]):\n",
    "    print(i+1, '\\t', ' '.join(t[:15]))"
   ]
  },
  {
   "cell_type": "markdown",
   "id": "4b46a7cd-e034-492a-b9fe-85e51d306c52",
   "metadata": {},
   "source": [
    "# Topic Summary and Reflection\n",
    "I'll summarise the topics into one or two words aswell as inspect some reviews to flesh out the details. \n",
    "\n",
    "#### Positive\n",
    "1. Technical Performance \\\n",
    "   The framerate and graphical quality in relatio to the dated hardware is discussed despite coming from positive reviews.\n",
    "\n",
    "2. Worth the wait\\\n",
    "   The wait for the game was worth it \n",
    "3. World Exploration\\\n",
    "   World exploration and its freedom is praised.\n",
    "4. Gameplay Experience \\\n",
    "   The overall expeirence, from gameplay and narrative was engaging\n",
    "5. New Abilities\\\n",
    "   Discussion on the major abilities the player character has.\n",
    "6. Expanded Map Elements \\\n",
    "   Positive recpetion toward the sky islands adn depths introduced in the new game\n",
    "   \n",
    "\n",
    "#### Negative\n",
    "\n",
    "1. New Abilities and Puzzle Solving \\\n",
    "   Weapons and puzzle mechanics aare discussed with reference to shrines and dungeons.\n",
    "   \n",
    "2. Repetitive Map Elements \\\n",
    "   Sky Islands and the Depths, while interesting conceptually, were too repetitive.\n",
    "   \n",
    "3. Story and retread ideas \\\n",
    "   The game is compared to \"dlc\" - downloadable content indicating that retread ideas and map was dissapointing for some players.\n",
    "   \n",
    "4. Technical Performance \\\n",
    "   Graphics Frame rate left players dissapointed given the high price point of the game.\n",
    "\n",
    "#### Negative/Mixed\n",
    "1. World Exploration \n",
    "      \n",
    "2. Gameplay Experience \n",
    "3. Retread Ideas\n",
    "4. Technical Performance \\\n",
    "   Framerate and graphical quality\n",
    "5. Combat/Weapon Systems \\\n",
    "   Players found the fuse mechanic annoying especially with archery as well as the returning weapon durability system. \n",
    "\n",
    "\n",
    "#### Conclusion\n",
    "The LDA mallet has served well at giving us a overall look at what players thought was good and bad about Tears of the Kingdom. Some further inspection of reviews indepently is required to flesh out the topics but if someone has played the game (or perhaps worked on it) they could easily understand what parts of the game are being discussed based on these topics. That is true despitethe cases of the more vague topics appearing that seem to more generalise the gameplay experience as a whole rather than individual aspects. \\\n",
    "The notable standouts for future improvement are obviously the games technical performance. Though this could serve also as a complaint about the now dated Switch console. However players do also view tears of the kingdom as \"dlc\" and being to reliant on assets and structure of the previous title of which it recycles a majority of map elements. And despite new map elements introduced there seems to be mixed opinion on it. One another notebale complaint concerns weapon mechanics most likely the implementation (not the concept) of the fuse mechanic as well as weapon durability."
   ]
  },
  {
   "cell_type": "code",
   "execution_count": null,
   "id": "4b47bdda-98e1-466d-9f58-cc39316213ea",
   "metadata": {},
   "outputs": [],
   "source": []
  }
 ],
 "metadata": {
  "kernelspec": {
   "display_name": "Python 3 (ipykernel)",
   "language": "python",
   "name": "python3"
  },
  "language_info": {
   "codemirror_mode": {
    "name": "ipython",
    "version": 3
   },
   "file_extension": ".py",
   "mimetype": "text/x-python",
   "name": "python",
   "nbconvert_exporter": "python",
   "pygments_lexer": "ipython3",
   "version": "3.11.7"
  }
 },
 "nbformat": 4,
 "nbformat_minor": 5
}
